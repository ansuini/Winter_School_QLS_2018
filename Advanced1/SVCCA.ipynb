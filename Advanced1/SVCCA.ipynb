{
 "cells": [
  {
   "cell_type": "code",
   "execution_count": null,
   "metadata": {},
   "outputs": [],
   "source": [
    "%reload_ext autoreload\n",
    "%autoreload 2\n",
    "%matplotlib inline"
   ]
  },
  {
   "cell_type": "code",
   "execution_count": null,
   "metadata": {},
   "outputs": [],
   "source": [
    "import sys\n",
    "from matplotlib import pyplot as plt\n",
    "import numpy as np\n",
    "import h5py\n",
    "import keras\n",
    "from keras.models import load_model\n",
    "from keras import backend as K\n",
    "from tqdm import tqdm\n",
    "\n",
    "import os\n",
    "from os.path import join\n",
    "\n",
    "# Set the learning phase to false, the model is pre-trained.\n",
    "K.set_learning_phase(False)"
   ]
  },
  {
   "cell_type": "code",
   "execution_count": 3,
   "metadata": {},
   "outputs": [],
   "source": [
    "ROOT = join('/home','qsb', 'Repos', 'Winter_School_QSB_2018')\n",
    "sys.path.append(ROOT)\n",
    "os.chdir(ROOT)"
   ]
  },
  {
   "cell_type": "code",
   "execution_count": 4,
   "metadata": {},
   "outputs": [],
   "source": [
    "from QSB import cca_core as cca\n",
    "from QSB import dft_ccas as dft_cca\n",
    "from QSB.loaders import load_mnist_data, sample_mnist_balanced\n",
    "from QSB.extraction import extract_representations"
   ]
  },
  {
   "cell_type": "markdown",
   "metadata": {},
   "source": [
    "# Load data and 2 models"
   ]
  },
  {
   "cell_type": "code",
   "execution_count": 5,
   "metadata": {},
   "outputs": [],
   "source": [
    "x_train, x_test, y_train, y_test, y_test_int = load_mnist_data()\n",
    "model_a = load_model(join(ROOT, 'Advanced1', 'models','mnist_conv_deep_slowlearning01.h5') )\n",
    "model_b = load_model(join(ROOT, 'Advanced1', 'models','mnist_conv_deep_slowlearning12.h5') )"
   ]
  },
  {
   "cell_type": "code",
   "execution_count": 6,
   "metadata": {},
   "outputs": [],
   "source": [
    "nsamples = 200\n",
    "samples, labels = sample_mnist_balanced(x_test, y_test_int, nsamples)"
   ]
  },
  {
   "cell_type": "markdown",
   "metadata": {},
   "source": [
    "# Extract representations"
   ]
  },
  {
   "cell_type": "code",
   "execution_count": 7,
   "metadata": {},
   "outputs": [],
   "source": [
    "layers_outs_a = extract_representations(model_a, samples)\n",
    "layers_outs_b = extract_representations(model_b, samples)"
   ]
  },
  {
   "cell_type": "code",
   "execution_count": 8,
   "metadata": {},
   "outputs": [
    {
     "name": "stdout",
     "output_type": "stream",
     "text": [
      "_________________________________________________________________\n",
      "Layer (type)                 Output Shape              Param #   \n",
      "=================================================================\n",
      "conv2d_1 (Conv2D)            (None, 24, 24, 32)        832       \n",
      "_________________________________________________________________\n",
      "conv2d_2 (Conv2D)            (None, 22, 22, 32)        9248      \n",
      "_________________________________________________________________\n",
      "max_pooling2d_1 (MaxPooling2 (None, 11, 11, 32)        0         \n",
      "_________________________________________________________________\n",
      "dropout_1 (Dropout)          (None, 11, 11, 32)        0         \n",
      "_________________________________________________________________\n",
      "conv2d_3 (Conv2D)            (None, 9, 9, 64)          18496     \n",
      "_________________________________________________________________\n",
      "conv2d_4 (Conv2D)            (None, 7, 7, 64)          36928     \n",
      "_________________________________________________________________\n",
      "max_pooling2d_2 (MaxPooling2 (None, 3, 3, 64)          0         \n",
      "_________________________________________________________________\n",
      "dropout_2 (Dropout)          (None, 3, 3, 64)          0         \n",
      "_________________________________________________________________\n",
      "flatten_1 (Flatten)          (None, 576)               0         \n",
      "_________________________________________________________________\n",
      "dense_1 (Dense)              (None, 1024)              590848    \n",
      "_________________________________________________________________\n",
      "dropout_3 (Dropout)          (None, 1024)              0         \n",
      "_________________________________________________________________\n",
      "dense_2 (Dense)              (None, 1024)              1049600   \n",
      "_________________________________________________________________\n",
      "dropout_4 (Dropout)          (None, 1024)              0         \n",
      "_________________________________________________________________\n",
      "dense_3 (Dense)              (None, 10)                10250     \n",
      "=================================================================\n",
      "Total params: 1,716,202\n",
      "Trainable params: 1,716,202\n",
      "Non-trainable params: 0\n",
      "_________________________________________________________________\n"
     ]
    }
   ],
   "source": [
    "model_a.summary()"
   ]
  },
  {
   "cell_type": "code",
   "execution_count": 9,
   "metadata": {},
   "outputs": [],
   "source": [
    "layers_names = [l.name for l in model_a.layers]"
   ]
  },
  {
   "cell_type": "code",
   "execution_count": null,
   "metadata": {},
   "outputs": [],
   "source": [
    "selected_outs_a = [(layers_names[i],layers_outs_a[i]) for i in range(len(layers_names)) \n",
    "                 if 'conv'  in layers_names[i] \n",
    "                 or 'pool'  in layers_names[i]\n",
    "                 or 'dense' in layers_names[i]  ]\n",
    "\n",
    "selected_outs_b = [(layers_names[i],layers_outs_b[i]) for i in range(len(layers_names)) \n",
    "                 if 'conv'  in layers_names[i] \n",
    "                 or 'pool'  in layers_names[i]\n",
    "                 or 'dense' in layers_names[i]  ]"
   ]
  },
  {
   "cell_type": "code",
   "execution_count": 11,
   "metadata": {},
   "outputs": [],
   "source": [
    "selected_layers_labels = [l for (l,_) in selected_outs_a]\n",
    "\n",
    "del layers_outs_a\n",
    "del layers_outs_b"
   ]
  },
  {
   "cell_type": "markdown",
   "metadata": {},
   "source": [
    "# Compute SVCCA"
   ]
  },
  {
   "cell_type": "code",
   "execution_count": 14,
   "metadata": {},
   "outputs": [
    {
     "name": "stdout",
     "output_type": "stream",
     "text": [
      "(1024, 2000)\n",
      "(1024, 2000)\n",
      "adding eps to diagonal and taking inverse\n",
      "taking square root\n",
      "dot products...\n",
      "trying to take final svd\n",
      "computed everything!\n"
     ]
    }
   ],
   "source": [
    "x = np.reshape(selected_outs_a[-3][1], (nsamples*10,-1)).T\n",
    "y = np.reshape(selected_outs_a[-2][1], (nsamples*10,-1)).T\n",
    "\n",
    "print(x.shape)\n",
    "print(y.shape)\n",
    "svcca = cca.get_cca_similarity(x,y, threshold=0.98, compute_dirns=True)"
   ]
  },
  {
   "cell_type": "code",
   "execution_count": 17,
   "metadata": {},
   "outputs": [
    {
     "name": "stdout",
     "output_type": "stream",
     "text": [
      "dict_keys(['neuron_coeffs1', 'neuron_coeffs2', 'cca_coef1', 'cca_coef2', 'x_idxs', 'y_idxs', 'mean', 'sum', 'cca_dirns1', 'cca_dirns2'])\n"
     ]
    }
   ],
   "source": [
    "print(svcca.keys())"
   ]
  },
  {
   "cell_type": "code",
   "execution_count": 23,
   "metadata": {},
   "outputs": [
    {
     "name": "stdout",
     "output_type": "stream",
     "text": [
      "1011\n"
     ]
    }
   ],
   "source": [
    "m = np.min([svcca['cca_coef1'].shape[0], svcca['cca_coef2'].shape[0] ] ) \n",
    "print(m)"
   ]
  },
  {
   "cell_type": "code",
   "execution_count": 24,
   "metadata": {},
   "outputs": [],
   "source": [
    "z1 = svcca['cca_dirns1']\n",
    "z2 = svcca['cca_dirns2']"
   ]
  },
  {
   "cell_type": "code",
   "execution_count": 25,
   "metadata": {},
   "outputs": [
    {
     "data": {
      "text/plain": [
       "(1011, 2000)"
      ]
     },
     "execution_count": 25,
     "metadata": {},
     "output_type": "execute_result"
    }
   ],
   "source": []
  },
  {
   "cell_type": "code",
   "execution_count": 27,
   "metadata": {},
   "outputs": [],
   "source": [
    "corr = []\n",
    "for i in range(m):\n",
    "    corrcoef = np.corrcoef(z1[i,:],z2[i,:])\n",
    "    corr.append( np.abs( corrcoef[0,1]) ) "
   ]
  },
  {
   "cell_type": "code",
   "execution_count": 28,
   "metadata": {},
   "outputs": [
    {
     "data": {
      "text/plain": [
       "[<matplotlib.lines.Line2D at 0x7ff91578b710>]"
      ]
     },
     "execution_count": 28,
     "metadata": {},
     "output_type": "execute_result"
    },
    {
     "data": {
      "image/png": "[encoded data removed]",
      "text/plain": [
       "<Figure size 432x288 with 1 Axes>"
      ]
     },
     "metadata": {
      "needs_background": "light"
     },
     "output_type": "display_data"
    }
   ],
   "source": [
    "plt.plot(corr)"
   ]
  },
  {
   "cell_type": "code",
   "execution_count": null,
   "metadata": {},
   "outputs": [],
   "source": [
    "similarity = np.mean(corr)"
   ]
  },
  {
   "cell_type": "markdown",
   "metadata": {},
   "source": [
    "# Implement SVCCA similarity\n",
    "\n",
    "$\\bar{\\rho} = \\frac{1}{\\min(m_1, m_2)} \\sum_i \\text{corr}(v^i, w^i)$"
   ]
  },
  {
   "cell_type": "code",
   "execution_count": 32,
   "metadata": {},
   "outputs": [],
   "source": [
    "def similarity(x,y):\n",
    "    x = np.reshape(x, (x.shape[0],-1)).T\n",
    "    y = np.reshape(y, (y.shape[0],-1)).T\n",
    "    svcca = cca.get_cca_similarity(x,y, threshold=0.98, compute_dirns=True)\n",
    "\n",
    "    m = np.min([svcca['cca_coef1'].shape[0], svcca['cca_coef2'].shape[0] ] ) \n",
    "    z1 = svcca['cca_dirns1']\n",
    "    z2 = svcca['cca_dirns2']\n",
    "    corr = []\n",
    "    for i in range(m):\n",
    "        corrcoef = np.corrcoef(z1[i,:],z2[i,:])\n",
    "        corr.append( np.abs( corrcoef[0,1]) ) \n",
    "    sim = np.mean(corr)\n",
    "    return (sim, corr)"
   ]
  },
  {
   "cell_type": "code",
   "execution_count": 33,
   "metadata": {},
   "outputs": [
    {
     "name": "stdout",
     "output_type": "stream",
     "text": [
      "adding eps to diagonal and taking inverse\n",
      "taking square root\n",
      "dot products...\n",
      "trying to take final svd\n",
      "computed everything!\n"
     ]
    }
   ],
   "source": [
    "svccasim = similarity(selected_outs_a[-3][1],selected_outs_b[-3][1])"
   ]
  },
  {
   "cell_type": "code",
   "execution_count": 46,
   "metadata": {},
   "outputs": [
    {
     "data": {
      "text/plain": [
       "['conv2d_1',\n",
       " 'conv2d_2',\n",
       " 'max_pooling2d_1',\n",
       " 'conv2d_3',\n",
       " 'conv2d_4',\n",
       " 'max_pooling2d_2',\n",
       " 'dense_1',\n",
       " 'dense_2',\n",
       " 'dense_3']"
      ]
     },
     "execution_count": 46,
     "metadata": {},
     "output_type": "execute_result"
    }
   ],
   "source": [
    "selected_layers_labels"
   ]
  },
  {
   "cell_type": "code",
   "execution_count": 44,
   "metadata": {},
   "outputs": [
    {
     "name": "stdout",
     "output_type": "stream",
     "text": [
      "adding eps to diagonal and taking inverse\n",
      "taking square root\n",
      "dot products...\n",
      "trying to take final svd\n",
      "computed everything!\n",
      "0.7894069299734376\n",
      "adding eps to diagonal and taking inverse\n",
      "taking square root\n",
      "dot products...\n",
      "trying to take final svd\n",
      "computed everything!\n",
      "0.7219379483445123\n",
      "adding eps to diagonal and taking inverse\n",
      "taking square root\n",
      "dot products...\n",
      "trying to take final svd\n",
      "computed everything!\n",
      "0.729077049756801\n"
     ]
    }
   ],
   "source": [
    "_ = [print(similarity(selected_outs_a[-i][1],selected_outs_b[-i][1])[0]) \n",
    "     for i in range(1,4)]"
   ]
  },
  {
   "cell_type": "code",
   "execution_count": 47,
   "metadata": {},
   "outputs": [],
   "source": [
    "?dft_cca"
   ]
  },
  {
   "cell_type": "code",
   "execution_count": 53,
   "metadata": {},
   "outputs": [],
   "source": [
    "df = dft_cca.fourier_ccas(selected_outs_a[-5][1], selected_outs_b[-5][1])"
   ]
  },
  {
   "cell_type": "code",
   "execution_count": 65,
   "metadata": {},
   "outputs": [
    {
     "data": {
      "text/plain": [
       "(62,)"
      ]
     },
     "execution_count": 65,
     "metadata": {},
     "output_type": "execute_result"
    }
   ],
   "source": [
    "df['cca_coef1'][1].shape"
   ]
  },
  {
   "cell_type": "code",
   "execution_count": 62,
   "metadata": {},
   "outputs": [
    {
     "data": {
      "text/plain": [
       "array([0.995647  , 0.98599443, 0.98045153, 0.97707013, 0.97128259,\n",
       "       0.96560701, 0.96249072, 0.95521937, 0.94251041, 0.93086189,\n",
       "       0.91277756, 0.89898229, 0.89008239, 0.86061897, 0.85581898,\n",
       "       0.84341978, 0.82523445, 0.82244539, 0.80833636, 0.78899465,\n",
       "       0.7752133 , 0.76498285, 0.74875242, 0.73575627, 0.7077754 ,\n",
       "       0.68711009, 0.6636627 , 0.64955886, 0.62269324, 0.59368508,\n",
       "       0.58663698, 0.57641738, 0.56712717, 0.54859275, 0.51041163,\n",
       "       0.49838226, 0.48070188, 0.45322244, 0.44525792, 0.41286495,\n",
       "       0.39273183, 0.37854241, 0.36601372, 0.35716343, 0.33676635,\n",
       "       0.31959974, 0.30502604, 0.2905432 , 0.26135502, 0.25279744,\n",
       "       0.2228298 , 0.21113562, 0.1917097 , 0.16220046, 0.13350765,\n",
       "       0.12223125, 0.10678658, 0.07242684, 0.06165309, 0.04669872,\n",
       "       0.04320718, 0.0087032 , 0.001     ])"
      ]
     },
     "execution_count": 62,
     "metadata": {},
     "output_type": "execute_result"
    }
   ],
   "source": []
  },
  {
   "cell_type": "code",
   "execution_count": null,
   "metadata": {},
   "outputs": [],
   "source": []
  }
 ],
 "metadata": {
  "kernelspec": {
   "display_name": "Python 3",
   "language": "python",
   "name": "python3"
  },
  "language_info": {
   "codemirror_mode": {
    "name": "ipython",
    "version": 3
   },
   "file_extension": ".py",
   "mimetype": "text/x-python",
   "name": "python",
   "nbconvert_exporter": "python",
   "pygments_lexer": "ipython3",
   "version": "3.6.6"
  }
 },
 "nbformat": 4,
 "nbformat_minor": 2
}
