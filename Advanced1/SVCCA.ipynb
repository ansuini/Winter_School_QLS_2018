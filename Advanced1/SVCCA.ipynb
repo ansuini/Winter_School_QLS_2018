{
 "cells": [
  {
   "cell_type": "code",
   "execution_count": 7,
   "metadata": {},
   "outputs": [
    {
     "name": "stderr",
     "output_type": "stream",
     "text": [
      "Using TensorFlow backend.\n"
     ]
    }
   ],
   "source": [
    "from matplotlib import pyplot as plt\n",
    "import numpy as np\n",
    "import h5py\n",
    "import keras\n",
    "from keras.models import load_model\n",
    "from keras import backend as K\n",
    "from tqdm import tqdm\n",
    "\n",
    "import os\n",
    "from os.path import join\n",
    "\n",
    "# Set the learning phase to false, the model is pre-trained.\n",
    "K.set_learning_phase(False)\n",
    "model = load_model('models/mnist_conv_deep_01.h5')"
   ]
  },
  {
   "cell_type": "code",
   "execution_count": 4,
   "metadata": {},
   "outputs": [],
   "source": [
    "import cca_core as cca\n",
    "import dft_ccas as dft_cca"
   ]
  },
  {
   "cell_type": "code",
   "execution_count": 6,
   "metadata": {},
   "outputs": [],
   "source": [
    "def similarity(svcca):\n",
    "    m = np.min([svcca['cca_coef1'].shape[0], svcca['cca_coef2'].shape[0] ] ) \n",
    "    z1 = svcca['cca_dirns1']\n",
    "    z2 = svcca['cca_dirns2']\n",
    "    corr = []\n",
    "    for i in range(m):\n",
    "        corrcoef = np.corrcoef(z1[i,:],z2[i,:])\n",
    "        corr.append( np.abs( corrcoef[0,1]) ) \n",
    "    return np.mean(corr)"
   ]
  },
  {
   "cell_type": "code",
   "execution_count": null,
   "metadata": {},
   "outputs": [],
   "source": []
  }
 ],
 "metadata": {
  "kernelspec": {
   "display_name": "Python 3",
   "language": "python",
   "name": "python3"
  },
  "language_info": {
   "codemirror_mode": {
    "name": "ipython",
    "version": 3
   },
   "file_extension": ".py",
   "mimetype": "text/x-python",
   "name": "python",
   "nbconvert_exporter": "python",
   "pygments_lexer": "ipython3",
   "version": "3.6.6"
  }
 },
 "nbformat": 4,
 "nbformat_minor": 2
}
