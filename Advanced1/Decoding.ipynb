{
 "cells": [
  {
   "cell_type": "markdown",
   "metadata": {},
   "source": [
    "# Decoding Representations in Deep Networks\n",
    "\n",
    "\n",
    "Decoding representations in the different layers of a deep network is a very valuable machine learning excercise.\n",
    "Usually one wants to decode a stimulus category or the continuous value of one of its parameters, such as luminosity, eccentricity, position etc.\n",
    "\n",
    "The steps are :\n",
    "\n",
    "- train a linear classifier or a linear regression algorithm\n",
    "- assess its performance\n",
    "\n",
    "This operation entails hyperparameters search with cross-validation\n"
   ]
  },
  {
   "cell_type": "code",
   "execution_count": 1,
   "metadata": {},
   "outputs": [
    {
     "name": "stderr",
     "output_type": "stream",
     "text": [
      "Using TensorFlow backend.\n"
     ]
    }
   ],
   "source": [
    "# imports\n",
    "\n",
    "import os\n",
    "import os.path as path\n",
    "from os import listdir \n",
    "from os.path import isfile, join\n",
    "import numpy as np\n",
    "from matplotlib import pyplot as plt\n",
    "from matplotlib import cm\n",
    "import h5py\n",
    "\n",
    "from keras.datasets import mnist\n",
    "from keras.models import Model, load_model\n",
    "from keras.utils.np_utils import to_categorical\n",
    "from keras import backend as K\n",
    "\n",
    "from tqdm import tqdm"
   ]
  },
  {
   "cell_type": "markdown",
   "metadata": {},
   "source": [
    "# Load data, model and extract representations\n",
    "\n",
    "We repeat the steps in the preceding exercise first"
   ]
  },
  {
   "cell_type": "code",
   "execution_count": 2,
   "metadata": {},
   "outputs": [],
   "source": [
    "(i_train, l_train), (i_test, l_test) = mnist.load_data()\n",
    "i_train, i_test = i_train/255.0, i_test/255.0\n",
    "i_train, i_test = i_train.astype(np.float32), i_test.astype(np.float32)\n",
    "i_train, i_test = np.expand_dims(i_train, 3), np.expand_dims(i_test, 3)\n",
    "l_test_int = l_test # keep labels in integer form\n",
    "l_train, l_test = to_categorical(l_train), to_categorical(l_test)"
   ]
  },
  {
   "cell_type": "code",
   "execution_count": 3,
   "metadata": {},
   "outputs": [],
   "source": [
    "# extract a random sample of n_sample elements from each category in test set\n",
    "\n",
    "n_samples = 100\n",
    "samples = np.zeros((n_samples*10,28,28,1))\n",
    "labels = np.zeros((n_samples*10,))\n",
    "labels_int = []\n",
    "for i in range(10):\n",
    "    labels_int.append([i]*n_samples)\n",
    "    mask = l_test_int == i\n",
    "    temp_i_test = i_test[mask]\n",
    "    idx = np.random.permutation(temp_i_test.shape[0])[:n_samples]\n",
    "    samples[i*n_samples: (i+1)*n_samples,:,:,:] = temp_i_test[idx]\n",
    "    labels[i*n_samples: (i+1)*n_samples] = np.zeros((n_samples,)) + i\n",
    "labels = to_categorical(labels)"
   ]
  },
  {
   "cell_type": "code",
   "execution_count": 4,
   "metadata": {},
   "outputs": [],
   "source": [
    "labels_int = np.asarray(labels_int).flatten()"
   ]
  },
  {
   "cell_type": "code",
   "execution_count": 5,
   "metadata": {},
   "outputs": [
    {
     "name": "stdout",
     "output_type": "stream",
     "text": [
      "_________________________________________________________________\n",
      "Layer (type)                 Output Shape              Param #   \n",
      "=================================================================\n",
      "images (InputLayer)          (None, 28, 28, 1)         0         \n",
      "_________________________________________________________________\n",
      "flatten_1 (Flatten)          (None, 784)               0         \n",
      "_________________________________________________________________\n",
      "hidden1 (Dense)              (None, 100)               78500     \n",
      "_________________________________________________________________\n",
      "hidden2 (Dense)              (None, 100)               10100     \n",
      "_________________________________________________________________\n",
      "hidden3 (Dense)              (None, 100)               10100     \n",
      "_________________________________________________________________\n",
      "output (Dense)               (None, 10)                1010      \n",
      "=================================================================\n",
      "Total params: 99,710\n",
      "Trainable params: 99,710\n",
      "Non-trainable params: 0\n",
      "_________________________________________________________________\n",
      "None\n"
     ]
    }
   ],
   "source": [
    "model = load_model(join('models', 'mlp3.h5'))\n",
    "print(model.summary())"
   ]
  },
  {
   "cell_type": "code",
   "execution_count": 6,
   "metadata": {},
   "outputs": [],
   "source": [
    "def extract_representations(model,samples):\n",
    "    inp = model.input                                           # input placeholder\n",
    "    outputs = [layer.output for layer in model.layers]          # all layer outputs\n",
    "    functor = K.function([inp, K.learning_phase()], outputs )   # evaluation function\n",
    "    layers_outs = functor([samples, 1.])\n",
    "    return layers_outs"
   ]
  },
  {
   "cell_type": "code",
   "execution_count": 7,
   "metadata": {},
   "outputs": [],
   "source": [
    "layers_outs = extract_representations(model,samples)"
   ]
  },
  {
   "cell_type": "code",
   "execution_count": 8,
   "metadata": {},
   "outputs": [],
   "source": [
    "layers_names = [l.name for l in model.layers]"
   ]
  },
  {
   "cell_type": "code",
   "execution_count": 9,
   "metadata": {},
   "outputs": [
    {
     "data": {
      "text/plain": [
       "['images', 'flatten_1', 'hidden1', 'hidden2', 'hidden3', 'output']"
      ]
     },
     "execution_count": 9,
     "metadata": {},
     "output_type": "execute_result"
    }
   ],
   "source": [
    "layers_names"
   ]
  },
  {
   "cell_type": "code",
   "execution_count": 10,
   "metadata": {},
   "outputs": [
    {
     "name": "stdout",
     "output_type": "stream",
     "text": [
      "images (1000, 28, 28, 1)\n",
      "flatten_1 (1000, 784)\n",
      "hidden1 (1000, 100)\n",
      "hidden2 (1000, 100)\n",
      "hidden3 (1000, 100)\n",
      "output (1000, 10)\n"
     ]
    }
   ],
   "source": [
    "# print names\n",
    "_ = [print(l_name, l_out.shape) for l_name,l_out in zip(layers_names, layers_outs)]"
   ]
  },
  {
   "cell_type": "code",
   "execution_count": 11,
   "metadata": {},
   "outputs": [],
   "source": [
    "ind_to_extract = [0,2,3,4,5]\n",
    "layers_labels = ['images', 'hidden1', 'hidden2', 'hidden3', 'output']"
   ]
  },
  {
   "cell_type": "markdown",
   "metadata": {},
   "source": [
    "# Decoding of Representations in a Layer"
   ]
  },
  {
   "cell_type": "code",
   "execution_count": 12,
   "metadata": {},
   "outputs": [
    {
     "name": "stdout",
     "output_type": "stream",
     "text": [
      "images (1000, 784)\n",
      "flatten_1 (1000, 784)\n",
      "hidden1 (1000, 100)\n",
      "hidden2 (1000, 100)\n",
      "hidden3 (1000, 100)\n",
      "output (1000, 10)\n"
     ]
    }
   ],
   "source": [
    "# flatten representations\n",
    "layers_outs = [np.reshape(l, (n_samples*10, -1)) for l in layers_outs]\n",
    "\n",
    "# print names\n",
    "_ = [print(l_name, l_out.shape) for l_name,l_out in zip(layers_names, layers_outs)]"
   ]
  },
  {
   "cell_type": "code",
   "execution_count": 13,
   "metadata": {},
   "outputs": [],
   "source": [
    "layers_info = zip(layers_names, layers_outs)"
   ]
  },
  {
   "cell_type": "code",
   "execution_count": 14,
   "metadata": {},
   "outputs": [],
   "source": [
    "from sklearn.svm import SVC, SVR\n",
    "from sklearn.model_selection import train_test_split\n",
    "from sklearn.model_selection import GridSearchCV\n",
    "from sklearn.model_selection import KFold\n",
    "from sklearn import preprocessing"
   ]
  },
  {
   "cell_type": "code",
   "execution_count": 15,
   "metadata": {},
   "outputs": [],
   "source": [
    "from sklearn.metrics import make_scorer, balanced_accuracy_score\n",
    "from scipy.stats import pearsonr\n",
    "\n",
    "def discrete_variable_score(y_true, y_predicted):    \n",
    "    return balanced_accuracy_score(y_true, y_predicted)\n",
    "\n",
    "def continuous_variable_score(y_true, y_predicted):\n",
    "    return pearsonr(y_true,y_predicted)[0]"
   ]
  },
  {
   "cell_type": "code",
   "execution_count": null,
   "metadata": {},
   "outputs": [],
   "source": []
  },
  {
   "cell_type": "code",
   "execution_count": 16,
   "metadata": {},
   "outputs": [],
   "source": [
    "# create scorer\n",
    "my_func = make_scorer(discrete_variable_score,greater_is_better=True)"
   ]
  },
  {
   "cell_type": "code",
   "execution_count": 17,
   "metadata": {},
   "outputs": [
    {
     "name": "stderr",
     "output_type": "stream",
     "text": [
      " 20%|██        | 1/5 [00:25<01:42, 25.60s/it]/home/qsb/.local/lib/python3.6/site-packages/sklearn/model_selection/_search.py:841: DeprecationWarning: The default of the `iid` parameter will change from True to False in version 0.22 and will be removed in 0.24. This will change numeric results when test-set sizes are unequal.\n",
      "  DeprecationWarning)\n",
      " 80%|████████  | 4/5 [00:33<00:10, 10.31s/it]/home/qsb/.local/lib/python3.6/site-packages/sklearn/model_selection/_search.py:841: DeprecationWarning: The default of the `iid` parameter will change from True to False in version 0.22 and will be removed in 0.24. This will change numeric results when test-set sizes are unequal.\n",
      "  DeprecationWarning)\n",
      "100%|██████████| 5/5 [00:33<00:00,  7.35s/it]\n"
     ]
    }
   ],
   "source": [
    "Score = []\n",
    "Results = []\n",
    "Parameters = []\n",
    "\n",
    "\n",
    "Cs = np.power(10., np.arange(-3,3))\n",
    "#Cs = [0.01]\n",
    "\n",
    "# define grid of parameters\n",
    "param_grid = {'C' : Cs}\n",
    "nresampling = 10\n",
    "nfolds = 5\n",
    "nprocs = 1\n",
    "\n",
    "\n",
    "y = labels_int\n",
    "\n",
    "for i in tqdm(ind_to_extract):\n",
    "    \n",
    "    X = layers_outs[i]\n",
    "    \n",
    "    # preprocessing\n",
    "    #X = preprocessing.scale(X) \n",
    "    \n",
    "    X_train, X_test, y_train, y_test = train_test_split(\n",
    "            X, y, test_size=0.1, random_state=None)\n",
    "    \n",
    "    # basis classifier\n",
    "    clf_ = SVC(kernel='linear')\n",
    "    \n",
    "    grid_search = GridSearchCV(clf_, param_grid, \n",
    "                                scoring=my_func, \n",
    "                                cv=nfolds, \n",
    "                                n_jobs=nprocs, \n",
    "                                refit=True,\n",
    "                                return_train_score=True)\n",
    "\n",
    "    grid_search.fit(X_train, y_train)    \n",
    "    \n",
    "    \n",
    "    Score.append(grid_search.best_score_)             \n",
    "    Results.append(grid_search.cv_results_)\n",
    "    Parameters.append(grid_search.best_params_['C'])"
   ]
  },
  {
   "cell_type": "code",
   "execution_count": 18,
   "metadata": {},
   "outputs": [
    {
     "data": {
      "image/png": "[encoded data removed]",
      "text/plain": [
       "<Figure size 720x720 with 1 Axes>"
      ]
     },
     "metadata": {
      "needs_background": "light"
     },
     "output_type": "display_data"
    }
   ],
   "source": [
    "fs = 20\n",
    "ms = 20\n",
    "\n",
    "fig = plt.figure(figsize=(10,10))\n",
    "plt.plot(range(len(ind_to_extract) ), Score, '-bo',markersize=ms) \n",
    "plt.xticks(range(len(ind_to_extract) ), \n",
    "           layers_labels, \n",
    "           rotation='vertical',\n",
    "           fontsize=fs)\n",
    "\n",
    "plt.yticks(fontsize=fs)\n",
    "plt.ylabel('balanced accuracy',fontsize=fs)\n",
    "plt.xlabel('layer',fontsize=fs)\n",
    "plt.show()"
   ]
  },
  {
   "cell_type": "markdown",
   "metadata": {},
   "source": [
    "# CIFAR-10"
   ]
  },
  {
   "cell_type": "code",
   "execution_count": 19,
   "metadata": {},
   "outputs": [],
   "source": [
    "import numpy as np\n",
    "import keras\n",
    "from keras import backend as K\n",
    "from keras.datasets import cifar10\n",
    "from cifar10vgg import cifar10vgg\n",
    "from time import time\n",
    "\n",
    "\n",
    "from sklearn.svm import SVC, SVR\n",
    "from sklearn.model_selection import train_test_split\n",
    "from sklearn.model_selection import GridSearchCV\n",
    "from sklearn.model_selection import KFold\n",
    "from sklearn import preprocessing\n",
    "\n",
    "from tqdm import tqdm"
   ]
  },
  {
   "cell_type": "code",
   "execution_count": 20,
   "metadata": {},
   "outputs": [],
   "source": [
    "from sklearn.metrics import make_scorer, balanced_accuracy_score\n",
    "from scipy.stats import pearsonr\n",
    "\n",
    "def discrete_variable_score(y_true, y_predicted):    \n",
    "    return balanced_accuracy_score(y_true, y_predicted)\n",
    "\n",
    "def continuous_variable_score(y_true, y_predicted):\n",
    "    return pearsonr(y_true,y_predicted)[0]"
   ]
  },
  {
   "cell_type": "code",
   "execution_count": 21,
   "metadata": {},
   "outputs": [],
   "source": [
    "(x_train, y_train), (x_test, y_test) = cifar10.load_data()\n",
    "x_train = x_train.astype('float32')\n",
    "x_test = x_test.astype('float32')\n",
    "y_test_int = y_test\n",
    "y_train = keras.utils.to_categorical(y_train, 10)\n",
    "y_test = keras.utils.to_categorical(y_test, 10)"
   ]
  },
  {
   "cell_type": "code",
   "execution_count": 22,
   "metadata": {},
   "outputs": [],
   "source": [
    "model = cifar10vgg(train=False)"
   ]
  },
  {
   "cell_type": "code",
   "execution_count": 23,
   "metadata": {},
   "outputs": [],
   "source": [
    "#model.model.summary()"
   ]
  },
  {
   "cell_type": "code",
   "execution_count": 24,
   "metadata": {},
   "outputs": [
    {
     "name": "stdout",
     "output_type": "stream",
     "text": [
      "(100, 32, 32, 3)\n",
      "(100, 10)\n"
     ]
    }
   ],
   "source": [
    "n_samples = 100\n",
    "samples = x_test[:n_samples,:,:,:]\n",
    "labels  = y_test[:n_samples,:]\n",
    "labels_int = y_test_int[:n_samples]\n",
    "print(samples.shape)\n",
    "print(labels.shape)"
   ]
  },
  {
   "cell_type": "code",
   "execution_count": 25,
   "metadata": {},
   "outputs": [
    {
     "name": "stdout",
     "output_type": "stream",
     "text": [
      "Elapsed : 3.6359164714813232\n"
     ]
    }
   ],
   "source": [
    "tin = time()\n",
    "predicted_x = model.predict(samples)\n",
    "print('Elapsed : {}'.format(time() - tin))"
   ]
  },
  {
   "cell_type": "code",
   "execution_count": 26,
   "metadata": {},
   "outputs": [
    {
     "name": "stdout",
     "output_type": "stream",
     "text": [
      "the validation 0/1 loss is:  0.05\n"
     ]
    }
   ],
   "source": [
    "residuals = np.argmax(predicted_x,1)!=np.argmax(labels,1)\n",
    "loss = sum(residuals)/len(residuals)\n",
    "print(\"the validation 0/1 loss is: \",loss)"
   ]
  },
  {
   "cell_type": "code",
   "execution_count": 27,
   "metadata": {},
   "outputs": [
    {
     "data": {
      "text/plain": [
       "array([3, 8, 8, 0, 6, 6, 1, 6, 3, 1, 0, 9, 5, 7, 9, 8, 5, 7, 8, 6, 7, 0,\n",
       "       4, 9, 5, 2, 4, 0, 9, 6, 6, 5, 4, 5, 9, 2, 4, 1, 9, 5, 4, 6, 5, 6,\n",
       "       0, 9, 3, 9, 7, 6, 9, 8, 3, 3, 8, 8, 7, 5, 5, 3, 7, 5, 6, 3, 6, 2,\n",
       "       1, 2, 3, 7, 2, 6, 8, 8, 0, 2, 9, 3, 3, 8, 8, 1, 1, 7, 2, 5, 2, 7,\n",
       "       8, 9, 0, 3, 8, 6, 4, 6, 6, 0, 0, 7])"
      ]
     },
     "execution_count": 27,
     "metadata": {},
     "output_type": "execute_result"
    }
   ],
   "source": [
    "np.argmax(predicted_x,1)"
   ]
  },
  {
   "cell_type": "code",
   "execution_count": 28,
   "metadata": {},
   "outputs": [
    {
     "data": {
      "text/plain": [
       "array([3, 8, 8, 0, 6, 6, 1, 6, 3, 1, 0, 9, 5, 7, 9, 8, 5, 7, 8, 6, 7, 0,\n",
       "       4, 9, 5, 2, 4, 0, 9, 6, 6, 5, 4, 5, 9, 2, 4, 1, 9, 5, 4, 6, 5, 6,\n",
       "       0, 9, 3, 9, 7, 6, 9, 8, 0, 3, 8, 8, 7, 7, 4, 6, 7, 3, 6, 3, 6, 2,\n",
       "       1, 2, 3, 7, 2, 6, 8, 8, 0, 2, 9, 3, 3, 8, 8, 1, 1, 7, 2, 5, 2, 7,\n",
       "       8, 9, 0, 3, 8, 6, 4, 6, 6, 0, 0, 7])"
      ]
     },
     "execution_count": 28,
     "metadata": {},
     "output_type": "execute_result"
    }
   ],
   "source": [
    "np.argmax(labels,1)"
   ]
  },
  {
   "cell_type": "code",
   "execution_count": 29,
   "metadata": {},
   "outputs": [],
   "source": [
    "layers_outs = extract_representations(model.model, samples)\n",
    "layers_names = [l.name for l in model.model.layers]"
   ]
  },
  {
   "cell_type": "code",
   "execution_count": 30,
   "metadata": {},
   "outputs": [
    {
     "name": "stdout",
     "output_type": "stream",
     "text": [
      "0 conv2d_1 (100, 32, 32, 64)\n",
      "1 activation_1 (100, 32, 32, 64)\n",
      "2 batch_normalization_1 (100, 32, 32, 64)\n",
      "3 dropout_1 (100, 32, 32, 64)\n",
      "4 conv2d_2 (100, 32, 32, 64)\n",
      "5 activation_2 (100, 32, 32, 64)\n",
      "6 batch_normalization_2 (100, 32, 32, 64)\n",
      "7 max_pooling2d_1 (100, 16, 16, 64)\n",
      "8 conv2d_3 (100, 16, 16, 128)\n",
      "9 activation_3 (100, 16, 16, 128)\n",
      "10 batch_normalization_3 (100, 16, 16, 128)\n",
      "11 dropout_2 (100, 16, 16, 128)\n",
      "12 conv2d_4 (100, 16, 16, 128)\n",
      "13 activation_4 (100, 16, 16, 128)\n",
      "14 batch_normalization_4 (100, 16, 16, 128)\n",
      "15 max_pooling2d_2 (100, 8, 8, 128)\n",
      "16 conv2d_5 (100, 8, 8, 256)\n",
      "17 activation_5 (100, 8, 8, 256)\n",
      "18 batch_normalization_5 (100, 8, 8, 256)\n",
      "19 dropout_3 (100, 8, 8, 256)\n",
      "20 conv2d_6 (100, 8, 8, 256)\n",
      "21 activation_6 (100, 8, 8, 256)\n",
      "22 batch_normalization_6 (100, 8, 8, 256)\n",
      "23 dropout_4 (100, 8, 8, 256)\n",
      "24 conv2d_7 (100, 8, 8, 256)\n",
      "25 activation_7 (100, 8, 8, 256)\n",
      "26 batch_normalization_7 (100, 8, 8, 256)\n",
      "27 max_pooling2d_3 (100, 4, 4, 256)\n",
      "28 conv2d_8 (100, 4, 4, 512)\n",
      "29 activation_8 (100, 4, 4, 512)\n",
      "30 batch_normalization_8 (100, 4, 4, 512)\n",
      "31 dropout_5 (100, 4, 4, 512)\n",
      "32 conv2d_9 (100, 4, 4, 512)\n",
      "33 activation_9 (100, 4, 4, 512)\n",
      "34 batch_normalization_9 (100, 4, 4, 512)\n",
      "35 dropout_6 (100, 4, 4, 512)\n",
      "36 conv2d_10 (100, 4, 4, 512)\n",
      "37 activation_10 (100, 4, 4, 512)\n",
      "38 batch_normalization_10 (100, 4, 4, 512)\n",
      "39 max_pooling2d_4 (100, 2, 2, 512)\n",
      "40 conv2d_11 (100, 2, 2, 512)\n",
      "41 activation_11 (100, 2, 2, 512)\n",
      "42 batch_normalization_11 (100, 2, 2, 512)\n",
      "43 dropout_7 (100, 2, 2, 512)\n",
      "44 conv2d_12 (100, 2, 2, 512)\n",
      "45 activation_12 (100, 2, 2, 512)\n",
      "46 batch_normalization_12 (100, 2, 2, 512)\n",
      "47 dropout_8 (100, 2, 2, 512)\n",
      "48 conv2d_13 (100, 2, 2, 512)\n",
      "49 activation_13 (100, 2, 2, 512)\n",
      "50 batch_normalization_13 (100, 2, 2, 512)\n",
      "51 max_pooling2d_5 (100, 1, 1, 512)\n",
      "52 dropout_9 (100, 1, 1, 512)\n",
      "53 flatten_1 (100, 512)\n",
      "54 dense_1 (100, 512)\n",
      "55 activation_14 (100, 512)\n",
      "56 batch_normalization_14 (100, 512)\n",
      "57 dropout_10 (100, 512)\n",
      "58 dense_2 (100, 10)\n",
      "59 activation_15 (100, 10)\n"
     ]
    }
   ],
   "source": [
    "_ = [print(i, name, l.shape) for i, (name, l) in enumerate(zip(layers_names, layers_outs) )]"
   ]
  },
  {
   "cell_type": "code",
   "execution_count": 31,
   "metadata": {},
   "outputs": [],
   "source": [
    "# patiently individuate dropout and pooling layers indexes \n",
    "idx = [3, 7, 11, 15, 19, 23, 27, 31, 35, 39, 43, 47, 52, 57, 59]\n",
    "selected_outs = [(layers_names[i],layers_outs[i]) for i in idx]\n",
    "\n",
    "# or use a nice list comprehension\n",
    "selected_outs = [(layers_names[i],layers_outs[i]) for i in range(len(layers_names)) \n",
    "                 if 'dropout' in layers_names[i] or 'pool' in layers_names[i]]"
   ]
  },
  {
   "cell_type": "markdown",
   "metadata": {},
   "source": [
    "# Decoding"
   ]
  },
  {
   "cell_type": "code",
   "execution_count": 32,
   "metadata": {},
   "outputs": [],
   "source": [
    "from tqdm import tqdm"
   ]
  },
  {
   "cell_type": "code",
   "execution_count": 35,
   "metadata": {},
   "outputs": [
    {
     "name": "stderr",
     "output_type": "stream",
     "text": [
      "\n",
      "  0%|          | 0/15 [00:00<?, ?it/s]\u001b[A/home/qsb/.local/lib/python3.6/site-packages/sklearn/model_selection/_search.py:841: DeprecationWarning: The default of the `iid` parameter will change from True to False in version 0.22 and will be removed in 0.24. This will change numeric results when test-set sizes are unequal.\n",
      "  DeprecationWarning)\n",
      "\n",
      "  7%|▋         | 1/15 [00:51<12:02, 51.60s/it]\u001b[A/home/qsb/.local/lib/python3.6/site-packages/sklearn/model_selection/_search.py:841: DeprecationWarning: The default of the `iid` parameter will change from True to False in version 0.22 and will be removed in 0.24. This will change numeric results when test-set sizes are unequal.\n",
      "  DeprecationWarning)\n",
      "\n",
      " 13%|█▎        | 2/15 [01:03<08:34, 39.57s/it]\u001b[A/home/qsb/.local/lib/python3.6/site-packages/sklearn/model_selection/_search.py:841: DeprecationWarning: The default of the `iid` parameter will change from True to False in version 0.22 and will be removed in 0.24. This will change numeric results when test-set sizes are unequal.\n",
      "  DeprecationWarning)\n",
      "\n",
      " 20%|██        | 3/15 [01:25<06:53, 34.49s/it]\u001b[A/home/qsb/.local/lib/python3.6/site-packages/sklearn/model_selection/_search.py:841: DeprecationWarning: The default of the `iid` parameter will change from True to False in version 0.22 and will be removed in 0.24. This will change numeric results when test-set sizes are unequal.\n",
      "  DeprecationWarning)\n",
      "\n",
      " 27%|██▋       | 4/15 [01:31<04:45, 25.99s/it]\u001b[A\n",
      " 33%|███▎      | 5/15 [01:43<03:35, 21.56s/it]\u001b[A/home/qsb/.local/lib/python3.6/site-packages/sklearn/model_selection/_search.py:841: DeprecationWarning: The default of the `iid` parameter will change from True to False in version 0.22 and will be removed in 0.24. This will change numeric results when test-set sizes are unequal.\n",
      "  DeprecationWarning)\n",
      "\n",
      " 40%|████      | 6/15 [01:56<02:51, 19.10s/it]\u001b[A/home/qsb/.local/lib/python3.6/site-packages/sklearn/model_selection/_search.py:841: DeprecationWarning: The default of the `iid` parameter will change from True to False in version 0.22 and will be removed in 0.24. This will change numeric results when test-set sizes are unequal.\n",
      "  DeprecationWarning)\n",
      "\n",
      " 47%|████▋     | 7/15 [02:03<02:04, 15.56s/it]\u001b[A/home/qsb/.local/lib/python3.6/site-packages/sklearn/model_selection/_split.py:626: Warning: The least populated class in y has only 4 members, which is too few. The minimum number of members in any class cannot be less than n_splits=5.\n",
      "  % (min_groups, self.n_splits)), Warning)\n",
      "/home/qsb/.local/lib/python3.6/site-packages/sklearn/model_selection/_search.py:841: DeprecationWarning: The default of the `iid` parameter will change from True to False in version 0.22 and will be removed in 0.24. This will change numeric results when test-set sizes are unequal.\n",
      "  DeprecationWarning)\n",
      "\n",
      " 53%|█████▎    | 8/15 [02:14<01:39, 14.21s/it]\u001b[A/home/qsb/.local/lib/python3.6/site-packages/sklearn/model_selection/_search.py:841: DeprecationWarning: The default of the `iid` parameter will change from True to False in version 0.22 and will be removed in 0.24. This will change numeric results when test-set sizes are unequal.\n",
      "  DeprecationWarning)\n",
      "\n",
      " 60%|██████    | 9/15 [02:29<01:26, 14.34s/it]\u001b[A/home/qsb/.local/lib/python3.6/site-packages/sklearn/model_selection/_search.py:841: DeprecationWarning: The default of the `iid` parameter will change from True to False in version 0.22 and will be removed in 0.24. This will change numeric results when test-set sizes are unequal.\n",
      "  DeprecationWarning)\n",
      "\n",
      " 67%|██████▋   | 10/15 [02:30<00:52, 10.47s/it]\u001b[A/home/qsb/.local/lib/python3.6/site-packages/sklearn/model_selection/_search.py:841: DeprecationWarning: The default of the `iid` parameter will change from True to False in version 0.22 and will be removed in 0.24. This will change numeric results when test-set sizes are unequal.\n",
      "  DeprecationWarning)\n",
      "\n",
      " 73%|███████▎  | 11/15 [02:32<00:30,  7.72s/it]\u001b[A/home/qsb/.local/lib/python3.6/site-packages/sklearn/model_selection/_search.py:841: DeprecationWarning: The default of the `iid` parameter will change from True to False in version 0.22 and will be removed in 0.24. This will change numeric results when test-set sizes are unequal.\n",
      "  DeprecationWarning)\n",
      "\n",
      " 80%|████████  | 12/15 [02:33<00:17,  5.79s/it]\u001b[A/home/qsb/.local/lib/python3.6/site-packages/sklearn/model_selection/_search.py:841: DeprecationWarning: The default of the `iid` parameter will change from True to False in version 0.22 and will be removed in 0.24. This will change numeric results when test-set sizes are unequal.\n",
      "  DeprecationWarning)\n",
      "\n",
      " 87%|████████▋ | 13/15 [02:33<00:08,  4.16s/it]\u001b[A/home/qsb/.local/lib/python3.6/site-packages/sklearn/model_selection/_search.py:841: DeprecationWarning: The default of the `iid` parameter will change from True to False in version 0.22 and will be removed in 0.24. This will change numeric results when test-set sizes are unequal.\n",
      "  DeprecationWarning)\n",
      "\n",
      " 93%|█████████▎| 14/15 [02:34<00:03,  3.10s/it]\u001b[A/home/qsb/.local/lib/python3.6/site-packages/sklearn/model_selection/_search.py:841: DeprecationWarning: The default of the `iid` parameter will change from True to False in version 0.22 and will be removed in 0.24. This will change numeric results when test-set sizes are unequal.\n",
      "  DeprecationWarning)\n",
      "\n",
      "100%|██████████| 15/15 [02:34<00:00,  2.31s/it]\u001b[A\n",
      "\u001b[A"
     ]
    }
   ],
   "source": [
    "Score = []\n",
    "Results = []\n",
    "Parameters = []\n",
    "\n",
    "\n",
    "Cs = np.power(10., np.arange(-3,3))\n",
    "#Cs = [0.01]\n",
    "\n",
    "# define grid of parameters\n",
    "param_grid = {'C' : Cs}\n",
    "nresampling = 10\n",
    "nfolds = 5\n",
    "nprocs = 1\n",
    "\n",
    "\n",
    "y = labels_int.ravel()\n",
    "\n",
    "for (name, representation) in tqdm(selected_outs):\n",
    "    \n",
    "    X = np.reshape(representation, (n_samples, -1))\n",
    "    \n",
    "    # preprocessing\n",
    "    #X = preprocessing.scale(X) \n",
    "    \n",
    "    X_train, X_test, y_train, y_test = train_test_split(\n",
    "            X, y, test_size=0.1, random_state=None)\n",
    "    \n",
    "    grid_search = GridSearchCV(clf_, param_grid, \n",
    "                                scoring=my_func, \n",
    "                                cv=nfolds, \n",
    "                                n_jobs=nprocs, \n",
    "                                refit=True,\n",
    "                                return_train_score=True)\n",
    "\n",
    "    grid_search.fit(X_train, y_train)    \n",
    "    \n",
    "    \n",
    "    Score.append(grid_search.best_score_)             \n",
    "    Results.append(grid_search.cv_results_)\n",
    "    Parameters.append(grid_search.best_params_['C'])"
   ]
  },
  {
   "cell_type": "code",
   "execution_count": 42,
   "metadata": {},
   "outputs": [
    {
     "data": {
      "text/plain": [
       "['dropout_1',\n",
       " 'max_pooling2d_1',\n",
       " 'dropout_2',\n",
       " 'max_pooling2d_2',\n",
       " 'dropout_3',\n",
       " 'dropout_4',\n",
       " 'max_pooling2d_3',\n",
       " 'dropout_5',\n",
       " 'dropout_6',\n",
       " 'max_pooling2d_4',\n",
       " 'dropout_7',\n",
       " 'dropout_8',\n",
       " 'max_pooling2d_5',\n",
       " 'dropout_9',\n",
       " 'dropout_10']"
      ]
     },
     "execution_count": 42,
     "metadata": {},
     "output_type": "execute_result"
    }
   ],
   "source": [
    "selected_layers_labels = [l for (l,_) in selected_outs]\n",
    "selected_layers_labels"
   ]
  },
  {
   "cell_type": "code",
   "execution_count": 43,
   "metadata": {},
   "outputs": [
    {
     "data": {
      "image/png": "[encoded data removed]",
      "text/plain": [
       "<Figure size 720x720 with 1 Axes>"
      ]
     },
     "metadata": {
      "needs_background": "light"
     },
     "output_type": "display_data"
    }
   ],
   "source": [
    "fs = 20\n",
    "ms = 20\n",
    "\n",
    "fig = plt.figure(figsize=(10,10))\n",
    "plt.plot(range(len(selected_outs) ), Score, '-bo',markersize=ms) \n",
    "plt.xticks(range(len(selected_outs) ), \n",
    "           selected_layers_labels, \n",
    "           rotation='vertical',\n",
    "           fontsize=fs)\n",
    "\n",
    "plt.yticks(fontsize=fs)\n",
    "plt.ylabel('balanced accuracy',fontsize=fs)\n",
    "plt.xlabel('layer',fontsize=fs)\n",
    "plt.show()"
   ]
  },
  {
   "cell_type": "code",
   "execution_count": null,
   "metadata": {},
   "outputs": [],
   "source": []
  }
 ],
 "metadata": {
  "kernelspec": {
   "display_name": "Python 3",
   "language": "python",
   "name": "python3"
  },
  "language_info": {
   "codemirror_mode": {
    "name": "ipython",
    "version": 3
   },
   "file_extension": ".py",
   "mimetype": "text/x-python",
   "name": "python",
   "nbconvert_exporter": "python",
   "pygments_lexer": "ipython3",
   "version": "3.6.6"
  }
 },
 "nbformat": 4,
 "nbformat_minor": 2
}
