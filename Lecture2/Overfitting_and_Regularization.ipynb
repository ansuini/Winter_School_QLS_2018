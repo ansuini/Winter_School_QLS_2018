{
 "cells": [
  {
   "cell_type": "markdown",
   "metadata": {},
   "source": [
    "# Using the cross-entropy to classify MNIST digits"
   ]
  },
  {
   "cell_type": "markdown",
   "metadata": {},
   "source": [
    "<img src=\"../NotebooksFigures/mnist_tsne.png\" alt=\"drawing\" width=\"800\" >"
   ]
  },
  {
   "cell_type": "code",
   "execution_count": 1,
   "metadata": {},
   "outputs": [],
   "source": [
    "%reload_ext autoreload\n",
    "%autoreload 2\n",
    "%matplotlib inline"
   ]
  },
  {
   "cell_type": "code",
   "execution_count": 20,
   "metadata": {},
   "outputs": [],
   "source": [
    "import mnist_loader \n",
    "training_data, validation_data, test_data = mnist_loader.load_data_wrapper() "
   ]
  },
  {
   "cell_type": "markdown",
   "metadata": {},
   "source": [
    "Instantiate network of this form\n",
    "\n",
    "- 30 hidden neurons\n",
    "- mini-batch size of 10\n",
    "- $\\eta=0.5$ \n",
    "\n",
    "<img src=\"../NotebooksFigures/tikz12.png\" alt=\"drawing\" width=\"600\" >\n",
    "\n",
    "We will show that the cross-entropy loss function works well"
   ]
  },
  {
   "cell_type": "code",
   "execution_count": 21,
   "metadata": {},
   "outputs": [],
   "source": [
    "import network2\n",
    "net = network2.Network([784, 30, 10], cost=network2.CrossEntropyCost)"
   ]
  },
  {
   "cell_type": "code",
   "execution_count": 22,
   "metadata": {},
   "outputs": [],
   "source": [
    "#?net.large_weight_initializer"
   ]
  },
  {
   "cell_type": "code",
   "execution_count": 23,
   "metadata": {},
   "outputs": [],
   "source": [
    "net.large_weight_initializer()"
   ]
  },
  {
   "cell_type": "code",
   "execution_count": 26,
   "metadata": {},
   "outputs": [],
   "source": [
    "epochs = 30\n",
    "batch_size = 10\n",
    "learning_rate = 0.5"
   ]
  },
  {
   "cell_type": "code",
   "execution_count": 24,
   "metadata": {},
   "outputs": [
    {
     "name": "stdout",
     "output_type": "stream",
     "text": [
      "Epoch 0 training complete\n",
      "Accuracy on training data: 45432 / 50000\n",
      "Accuracy on evaluation data: 9122 / 10000\n",
      "Epoch 1 training complete\n",
      "Accuracy on training data: 46364 / 50000\n",
      "Accuracy on evaluation data: 9262 / 10000\n",
      "Epoch 2 training complete\n",
      "Accuracy on training data: 46931 / 50000\n",
      "Accuracy on evaluation data: 9354 / 10000\n",
      "Epoch 3 training complete\n",
      "Accuracy on training data: 47014 / 50000\n",
      "Accuracy on evaluation data: 9372 / 10000\n",
      "Epoch 4 training complete\n",
      "Accuracy on training data: 47438 / 50000\n",
      "Accuracy on evaluation data: 9417 / 10000\n",
      "Epoch 5 training complete\n",
      "Accuracy on training data: 47714 / 50000\n",
      "Accuracy on evaluation data: 9445 / 10000\n",
      "Epoch 6 training complete\n",
      "Accuracy on training data: 47625 / 50000\n",
      "Accuracy on evaluation data: 9434 / 10000\n",
      "Epoch 7 training complete\n",
      "Accuracy on training data: 47880 / 50000\n",
      "Accuracy on evaluation data: 9452 / 10000\n",
      "Epoch 8 training complete\n",
      "Accuracy on training data: 47895 / 50000\n",
      "Accuracy on evaluation data: 9476 / 10000\n",
      "Epoch 9 training complete\n",
      "Accuracy on training data: 48143 / 50000\n",
      "Accuracy on evaluation data: 9508 / 10000\n",
      "Epoch 10 training complete\n",
      "Accuracy on training data: 48112 / 50000\n",
      "Accuracy on evaluation data: 9458 / 10000\n",
      "Epoch 11 training complete\n",
      "Accuracy on training data: 48314 / 50000\n",
      "Accuracy on evaluation data: 9509 / 10000\n",
      "Epoch 12 training complete\n",
      "Accuracy on training data: 48309 / 50000\n",
      "Accuracy on evaluation data: 9503 / 10000\n",
      "Epoch 13 training complete\n",
      "Accuracy on training data: 48334 / 50000\n",
      "Accuracy on evaluation data: 9521 / 10000\n",
      "Epoch 14 training complete\n",
      "Accuracy on training data: 48364 / 50000\n",
      "Accuracy on evaluation data: 9518 / 10000\n",
      "Epoch 15 training complete\n",
      "Accuracy on training data: 48548 / 50000\n",
      "Accuracy on evaluation data: 9513 / 10000\n",
      "Epoch 16 training complete\n",
      "Accuracy on training data: 48449 / 50000\n",
      "Accuracy on evaluation data: 9542 / 10000\n",
      "Epoch 17 training complete\n",
      "Accuracy on training data: 48497 / 50000\n",
      "Accuracy on evaluation data: 9527 / 10000\n",
      "Epoch 18 training complete\n",
      "Accuracy on training data: 48577 / 50000\n",
      "Accuracy on evaluation data: 9549 / 10000\n",
      "Epoch 19 training complete\n",
      "Accuracy on training data: 48459 / 50000\n",
      "Accuracy on evaluation data: 9510 / 10000\n",
      "Epoch 20 training complete\n",
      "Accuracy on training data: 48407 / 50000\n",
      "Accuracy on evaluation data: 9490 / 10000\n",
      "Epoch 21 training complete\n",
      "Accuracy on training data: 48622 / 50000\n",
      "Accuracy on evaluation data: 9516 / 10000\n",
      "Epoch 22 training complete\n",
      "Accuracy on training data: 48681 / 50000\n",
      "Accuracy on evaluation data: 9534 / 10000\n",
      "Epoch 23 training complete\n",
      "Accuracy on training data: 48652 / 50000\n",
      "Accuracy on evaluation data: 9495 / 10000\n",
      "Epoch 24 training complete\n",
      "Accuracy on training data: 48680 / 50000\n",
      "Accuracy on evaluation data: 9510 / 10000\n",
      "Epoch 25 training complete\n",
      "Accuracy on training data: 48663 / 50000\n",
      "Accuracy on evaluation data: 9508 / 10000\n",
      "Epoch 26 training complete\n",
      "Accuracy on training data: 48771 / 50000\n",
      "Accuracy on evaluation data: 9539 / 10000\n",
      "Epoch 27 training complete\n",
      "Accuracy on training data: 48871 / 50000\n",
      "Accuracy on evaluation data: 9552 / 10000\n",
      "Epoch 28 training complete\n",
      "Accuracy on training data: 48804 / 50000\n",
      "Accuracy on evaluation data: 9525 / 10000\n",
      "Epoch 29 training complete\n",
      "Accuracy on training data: 48817 / 50000\n",
      "Accuracy on evaluation data: 9515 / 10000\n"
     ]
    }
   ],
   "source": [
    "_, evaluation_accuracy, _, training_accuracy = net.SGD(training_data, epochs, batch_size , learning_rate, \n",
    "                                                 evaluation_data=test_data,\n",
    "                                                 monitor_evaluation_accuracy=True,\n",
    "                                                 monitor_training_accuracy=True)"
   ]
  },
  {
   "cell_type": "code",
   "execution_count": 43,
   "metadata": {},
   "outputs": [
    {
     "data": {
      "image/png": "[encoded data removed]",
      "text/plain": [
       "<Figure size 432x288 with 1 Axes>"
      ]
     },
     "metadata": {
      "needs_background": "light"
     },
     "output_type": "display_data"
    }
   ],
   "source": [
    "import numpy as np\n",
    "from matplotlib import pyplot as plt\n",
    "fig = plt.figure()\n",
    "ax = fig.add_subplot(111)\n",
    "ax.plot(np.arange(0, epochs, 1), np.array(training_accuracy)/50000, color='#FFA933',\n",
    "            label=\"Accuracy on the training data\")\n",
    "ax.plot(np.arange(0, epochs, 1), np.array(evaluation_accuracy)/10000, color='#2A6EA6', \n",
    "            label=\"Accuracy on the test data\")\n",
    "ax.set_xlim(0, epochs)\n",
    "ax.set_xlabel('Epoch')\n",
    "ax.set_ylim(0.9, 1)\n",
    "ax.set_title('Classification accuracy')\n",
    "plt.legend(loc=\"lower right\")\n",
    "plt.show()"
   ]
  },
  {
   "cell_type": "markdown",
   "metadata": {},
   "source": [
    "This shows that the cross-entropy function works well"
   ]
  },
  {
   "cell_type": "code",
   "execution_count": 33,
   "metadata": {},
   "outputs": [],
   "source": [
    "# save this model in a dictionary with sizes, weights etc...\n",
    "net.save('net1')"
   ]
  },
  {
   "cell_type": "code",
   "execution_count": 34,
   "metadata": {},
   "outputs": [],
   "source": [
    "del net"
   ]
  },
  {
   "cell_type": "code",
   "execution_count": 37,
   "metadata": {},
   "outputs": [],
   "source": [
    "# to reload the network\n",
    "#net = network2.load('net1')"
   ]
  },
  {
   "cell_type": "markdown",
   "metadata": {},
   "source": [
    "# Overfitting\n",
    "\n",
    "\n",
    "We explain now how to create a situation where our network does a bad job generalizing to new situations.\n",
    "The training is on a small subset of the data so that the network overfits.\n",
    "\n",
    "Launch the script overfitting.py\n",
    "\n",
    "- same network\n",
    "- training on 1000 images \n",
    "- 400 epochs\n",
    "\n",
    "If we do that ...\n"
   ]
  },
  {
   "cell_type": "markdown",
   "metadata": {},
   "source": [
    "<img src=\"../NotebooksFigures/overfitting1.png\" alt=\"drawing\" width=\"600\" >\n",
    "\n",
    "\n",
    "<img src=\"../NotebooksFigures/overfitting2.png\" alt=\"drawing\" width=\"600\" >\n",
    "\n",
    "we realize that around epoch $\\sim 280$ the network overfits : \"what our network learns after epoch 280 no longer generalizes to the test data\""
   ]
  },
  {
   "cell_type": "markdown",
   "metadata": {},
   "source": [
    "Looking at the test accuracy :\n",
    "\n",
    "<img src=\"../NotebooksFigures/overfitting4.png\" alt=\"drawing\" width=\"600\" >\n",
    "\n",
    "we can see that the network is memorizing the training set ($100 \\%$ accuracy), without understanding the structure of the data ($\\sim 82 \\%$ accuracy on the test set)"
   ]
  },
  {
   "cell_type": "markdown",
   "metadata": {},
   "source": [
    "# Regularization\n",
    "\n",
    "- Early stopping\n",
    "- Weight decay\n",
    "- Data augmentation\n",
    "- Dropout"
   ]
  },
  {
   "cell_type": "markdown",
   "metadata": {},
   "source": [
    "### Early stopping\n",
    "\n",
    "\n",
    "We keep track of accuracy on the validation data.\n",
    "Once the accuracy on the validation_data has saturated, we stop training. \n",
    "This strategy is called *early stopping* and could be implemented in many\n",
    "ways : this require experimentation and common sense.\n",
    "\n",
    "In the following picture an idealized situation is depicted\n",
    "\n",
    "<img src=\"../NotebooksFigures/early_stopping.png\" alt=\"drawing\" width=\"400\" >\n",
    "\n",
    "\n",
    "but in reality there are fluctuations, plateaus etc.\n",
    "\n",
    "Validation data is used in general to determine the hyper-parameters such as:\n",
    "\n",
    "- number of epochs of training\n",
    "- learning rate\n",
    "- architecture\n",
    "\n",
    "and also (see below)\n",
    "\n",
    "- weight decay constant\n",
    "- dropout level \n",
    "\n",
    "This is important in order to avoid overfitting hyper-parameters to the test data !"
   ]
  },
  {
   "cell_type": "markdown",
   "metadata": {},
   "source": [
    "### Exercise : early stopping\n",
    "\n",
    "Implement a version of the early stopping using the same architecture, learning\n",
    "rate and batch size. Look at the accuracy on the validation\n",
    "data, define a suitable criterion (this will be a matter of your judgement)\n",
    "and determine the optimal under your criterion number of training epochs.\n",
    "\n",
    "This is an open exercise, there is not a single solution !\n",
    "\n",
    "`import mnist_loader\n",
    " training_data, validation_data, test_data = mnist_loader.load_data_wrapper()\n",
    " ...\n",
    " ...`"
   ]
  },
  {
   "cell_type": "markdown",
   "metadata": {},
   "source": [
    "Let us look again at the accuracies on training and test set we computed before \n",
    "\n",
    "<img src=\"../NotebooksFigures/early_stopping1.png\" alt=\"drawing\" width=\"400\" >\n",
    "\n",
    "\n",
    "Overfitting is much less than in the case in which we train on 1000 images, but it's still there.\n",
    "\n",
    "This suggests that a strategy to reduce overfitting is to increase the size of the training data, \n",
    "also in somewhat artificial ways like data *augmentation*."
   ]
  },
  {
   "cell_type": "code",
   "execution_count": null,
   "metadata": {},
   "outputs": [],
   "source": []
  },
  {
   "cell_type": "code",
   "execution_count": null,
   "metadata": {},
   "outputs": [],
   "source": []
  },
  {
   "cell_type": "code",
   "execution_count": null,
   "metadata": {},
   "outputs": [],
   "source": []
  },
  {
   "cell_type": "code",
   "execution_count": null,
   "metadata": {},
   "outputs": [],
   "source": []
  },
  {
   "cell_type": "code",
   "execution_count": null,
   "metadata": {},
   "outputs": [],
   "source": []
  },
  {
   "cell_type": "markdown",
   "metadata": {},
   "source": [
    "### Weight decay"
   ]
  },
  {
   "cell_type": "code",
   "execution_count": null,
   "metadata": {},
   "outputs": [],
   "source": []
  },
  {
   "cell_type": "code",
   "execution_count": null,
   "metadata": {},
   "outputs": [],
   "source": []
  },
  {
   "cell_type": "code",
   "execution_count": null,
   "metadata": {},
   "outputs": [],
   "source": []
  },
  {
   "cell_type": "code",
   "execution_count": null,
   "metadata": {},
   "outputs": [],
   "source": []
  },
  {
   "cell_type": "markdown",
   "metadata": {},
   "source": [
    "### Data augmentation"
   ]
  },
  {
   "cell_type": "code",
   "execution_count": null,
   "metadata": {},
   "outputs": [],
   "source": []
  },
  {
   "cell_type": "code",
   "execution_count": null,
   "metadata": {},
   "outputs": [],
   "source": []
  },
  {
   "cell_type": "code",
   "execution_count": null,
   "metadata": {},
   "outputs": [],
   "source": []
  },
  {
   "cell_type": "code",
   "execution_count": null,
   "metadata": {},
   "outputs": [],
   "source": []
  },
  {
   "cell_type": "markdown",
   "metadata": {},
   "source": [
    "### Dropout"
   ]
  },
  {
   "cell_type": "code",
   "execution_count": null,
   "metadata": {},
   "outputs": [],
   "source": []
  },
  {
   "cell_type": "code",
   "execution_count": null,
   "metadata": {},
   "outputs": [],
   "source": []
  },
  {
   "cell_type": "code",
   "execution_count": null,
   "metadata": {},
   "outputs": [],
   "source": []
  },
  {
   "cell_type": "code",
   "execution_count": null,
   "metadata": {},
   "outputs": [],
   "source": []
  },
  {
   "cell_type": "code",
   "execution_count": null,
   "metadata": {},
   "outputs": [],
   "source": []
  },
  {
   "cell_type": "code",
   "execution_count": null,
   "metadata": {},
   "outputs": [],
   "source": []
  }
 ],
 "metadata": {
  "kernelspec": {
   "display_name": "Python 3",
   "language": "python",
   "name": "python3"
  },
  "language_info": {
   "codemirror_mode": {
    "name": "ipython",
    "version": 3
   },
   "file_extension": ".py",
   "mimetype": "text/x-python",
   "name": "python",
   "nbconvert_exporter": "python",
   "pygments_lexer": "ipython3",
   "version": "3.6.6"
  }
 },
 "nbformat": 4,
 "nbformat_minor": 2
}
