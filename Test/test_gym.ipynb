{
 "cells": [
  {
   "cell_type": "code",
   "execution_count": 2,
   "metadata": {},
   "outputs": [
    {
     "name": "stderr",
     "output_type": "stream",
     "text": [
      "Using TensorFlow backend.\n"
     ]
    }
   ],
   "source": [
    "import os\n",
    "from random import sample as rsample\n",
    "import numpy as np\n",
    "from keras.models import Sequential\n",
    "from keras.layers.convolutional import Convolution2D\n",
    "from keras.layers.core import Dense, Flatten\n",
    "from keras.optimizers import SGD, RMSprop\n",
    "from matplotlib import pyplot as plt\n",
    "import json"
   ]
  },
  {
   "cell_type": "code",
   "execution_count": 3,
   "metadata": {},
   "outputs": [],
   "source": [
    "GRID_SIZE = 15"
   ]
  },
  {
   "cell_type": "code",
   "execution_count": 4,
   "metadata": {},
   "outputs": [],
   "source": [
    "def episode():\n",
    "    \"\"\" \n",
    "    Coroutine function for an episode.     \n",
    "        Action has to be explicitly sent (via \"send\") to this co-routine.\n",
    "    \"\"\"\n",
    "    x, y, x_basket = (\n",
    "        np.random.randint(0, GRID_SIZE),        # X of fruit\n",
    "        0,                                      # Y of dot\n",
    "        np.random.randint(1, GRID_SIZE - 1))    # X of basket\n",
    "        \n",
    "    while True:\n",
    "        # Reset grid\n",
    "        X = np.zeros((GRID_SIZE, GRID_SIZE))  \n",
    "        # Draw the fruit in the screen\n",
    "        X[y, x] = 1.\n",
    "        # Draw the basket\n",
    "        bar = range(x_basket - 1, x_basket + 2)\n",
    "        X[-1, bar] = 1.\n",
    "        \n",
    "        # End of game is known when fruit is at penultimate line of grid.\n",
    "        # End represents either the reward (a win or a loss)\n",
    "        end = int(y >= GRID_SIZE - 2)\n",
    "        if end and x not in bar:\n",
    "            end *= -1\n",
    "\n",
    "        action = yield X[np.newaxis], end\n",
    "        if end:\n",
    "            break\n",
    "\n",
    "        x_basket = min(max(x_basket + action, 1), GRID_SIZE - 2)\n",
    "        y += 1         "
   ]
  },
  {
   "cell_type": "code",
   "execution_count": 5,
   "metadata": {},
   "outputs": [],
   "source": [
    "def experience_replay(batch_size):\n",
    "    \"\"\"\n",
    "    Coroutine function for implementing experience replay.    \n",
    "        Provides a new experience by calling \"send\", which in turn yields \n",
    "        a random batch of previous replay experiences.\n",
    "    \"\"\"\n",
    "    memory = []\n",
    "    while True:\n",
    "        # experience is a tuple containing (S, action, reward, S_prime)\n",
    "        experience = yield rsample(memory, batch_size) if batch_size <= len(memory) else None\n",
    "        memory.append(experience)\n",
    "\n",
    "def save_img():\n",
    "    \"\"\"\n",
    "    Coroutine to store images in the \"images\" directory\n",
    "    \"\"\"\n",
    "    if 'images' not in os.listdir('.'):\n",
    "        os.mkdir('images')\n",
    "    frame = 0\n",
    "    while True:\n",
    "        screen = (yield)\n",
    "        plt.imshow(screen[0], interpolation='none')\n",
    "        plt.xticks([])\n",
    "        plt.yticks([])\n",
    "        plt.title('{}'.format(frame))\n",
    "        plt.savefig('images/%03i.png' % frame)\n",
    "        frame += 1\n",
    "        "
   ]
  },
  {
   "cell_type": "code",
   "execution_count": 6,
   "metadata": {},
   "outputs": [],
   "source": [
    "nb_epochs = 50\n",
    "batch_size = 128\n",
    "epsilon = .8\n",
    "gamma = .8"
   ]
  },
  {
   "cell_type": "code",
   "execution_count": 7,
   "metadata": {},
   "outputs": [
    {
     "name": "stdout",
     "output_type": "stream",
     "text": [
      "_________________________________________________________________\n",
      "Layer (type)                 Output Shape              Param #   \n",
      "=================================================================\n",
      "conv2d_1 (Conv2D)            (None, 16, 8, 8)          160       \n",
      "_________________________________________________________________\n",
      "conv2d_2 (Conv2D)            (None, 14, 6, 16)         1168      \n",
      "_________________________________________________________________\n",
      "flatten_1 (Flatten)          (None, 1344)              0         \n",
      "_________________________________________________________________\n",
      "dense_1 (Dense)              (None, 100)               134500    \n",
      "_________________________________________________________________\n",
      "dense_2 (Dense)              (None, 3)                 303       \n",
      "=================================================================\n",
      "Total params: 136,131\n",
      "Trainable params: 136,131\n",
      "Non-trainable params: 0\n",
      "_________________________________________________________________\n"
     ]
    }
   ],
   "source": [
    "model = Sequential()\n",
    "model.add(Convolution2D(16, kernel_size=(3,3), \n",
    "                        input_shape=(1, GRID_SIZE, GRID_SIZE), \n",
    "                        activation='relu',\n",
    "                        data_format='channels_first'))\n",
    "\n",
    "model.add(Convolution2D(16, kernel_size=(3,3), \n",
    "                        activation='relu'))\n",
    "model.add(Flatten())\n",
    "model.add(Dense(100, activation='relu'))\n",
    "model.add(Dense(3))\n",
    "model.compile(RMSprop(), 'MSE')\n",
    "model.summary()"
   ]
  },
  {
   "cell_type": "code",
   "execution_count": 8,
   "metadata": {},
   "outputs": [
    {
     "name": "stdout",
     "output_type": "stream",
     "text": [
      "Epoch 1, loss: 0.000000\n",
      "Epoch 2, loss: 0.000000\n",
      "Epoch 3, loss: 0.000000\n",
      "Epoch 4, loss: 0.000000\n",
      "Epoch 5, loss: 0.000000\n",
      "Epoch 6, loss: 0.000000\n",
      "Epoch 7, loss: 0.000000\n",
      "Epoch 8, loss: 0.000000\n",
      "Epoch 9, loss: 0.000000\n",
      "Epoch 10, loss: 0.000000\n",
      "Epoch 11, loss: 0.000000\n",
      "Epoch 12, loss: 0.000000\n",
      "Epoch 13, loss: 0.000000\n",
      "Epoch 14, loss: 0.000000\n",
      "Epoch 15, loss: 0.000000\n",
      "Epoch 16, loss: 0.042020\n",
      "Epoch 17, loss: 0.292145\n",
      "Epoch 18, loss: 0.332925\n",
      "Epoch 19, loss: 0.184429\n",
      "Epoch 20, loss: 0.311543\n",
      "Epoch 21, loss: 0.410605\n",
      "Epoch 22, loss: 0.389618\n",
      "Epoch 23, loss: 0.537128\n",
      "Epoch 24, loss: 0.433184\n",
      "Epoch 25, loss: 0.754993\n",
      "Epoch 26, loss: 0.754196\n",
      "Epoch 27, loss: 1.683500\n",
      "Epoch 28, loss: 0.917693\n",
      "Epoch 29, loss: 2.158868\n",
      "Epoch 30, loss: 1.049633\n",
      "Epoch 31, loss: 1.685290\n",
      "Epoch 32, loss: 4.039494\n",
      "Epoch 33, loss: 2.403280\n",
      "Epoch 34, loss: 4.765786\n",
      "Epoch 35, loss: 5.611214\n",
      "Epoch 36, loss: 4.967581\n",
      "Epoch 37, loss: 6.322775\n",
      "Epoch 38, loss: 4.379163\n",
      "Epoch 39, loss: 8.958813\n",
      "Epoch 40, loss: 7.257718\n",
      "Epoch 41, loss: 10.355333\n",
      "Epoch 42, loss: 9.792191\n",
      "Epoch 43, loss: 12.116623\n",
      "Epoch 44, loss: 12.134056\n",
      "Epoch 45, loss: 13.107466\n",
      "Epoch 46, loss: 24.560853\n",
      "Epoch 47, loss: 14.713535\n",
      "Epoch 48, loss: 12.326835\n",
      "Epoch 49, loss: 32.360824\n",
      "Epoch 50, loss: 10.117934\n"
     ]
    }
   ],
   "source": [
    "#################\n",
    "# RELOAD A MODEL\n",
    "#################\n",
    "# model = model_from_json(open('model.json').read())\n",
    "# model.load_weights('model.h5')\n",
    "\n",
    "exp_replay = experience_replay(batch_size)\n",
    "next(exp_replay)  # Start experience-replay coroutine\n",
    "\n",
    "for i in range(nb_epochs):\n",
    "    ep = episode()\n",
    "    S, reward = next(ep)  # Start coroutine of single entire episode\n",
    "    loss = 0.\n",
    "    try:\n",
    "        while True:\n",
    "            action = np.random.randint(-1, 2) \n",
    "            if np.random.random() > epsilon:\n",
    "                # Get the index of the maximum q-value of the model.\n",
    "                # Subtract one because actions are either -1, 0, or 1\n",
    "                action = np.argmax(model.predict(S[np.newaxis]), axis=-1)[0] - 1\n",
    "\n",
    "            S_prime, reward = ep.send(action)\n",
    "            experience = (S, action, reward, S_prime)\n",
    "            S = S_prime\n",
    "            \n",
    "            batch = exp_replay.send(experience)\n",
    "            if batch:\n",
    "                inputs = []\n",
    "                targets = []\n",
    "                for s, a, r, s_prime in batch:\n",
    "                    # The targets of unchosen actions are the q-values of the model,\n",
    "                    # so that the corresponding errors are 0. The targets of chosen actions\n",
    "                    # are either the rewards, in case a terminal state has been reached, \n",
    "                    # or future discounted q-values, in case episodes are still running.\n",
    "                    t = model.predict(s[np.newaxis]).flatten()\n",
    "                    t[a + 1] = r\n",
    "                    if not r:\n",
    "                        t[a + 1] = r + gamma * model.predict(s_prime[np.newaxis]).max(axis=-1)\n",
    "                    targets.append(t)\n",
    "                    inputs.append(s)\n",
    "                \n",
    "                loss += model.train_on_batch(np.array(inputs), np.array(targets))\n",
    "\n",
    "    except StopIteration:\n",
    "        pass\n",
    "    \n",
    "    # if (i + 1) % 100 == 0:\n",
    "    print('Epoch %i, loss: %.6f' % (i + 1, loss) )"
   ]
  },
  {
   "cell_type": "code",
   "execution_count": 9,
   "metadata": {},
   "outputs": [
    {
     "name": "stdout",
     "output_type": "stream",
     "text": [
      "Saving the model to model.h5\n"
     ]
    }
   ],
   "source": [
    "#################\n",
    "# SAVE THE MODEL\n",
    "#################\n",
    "# Save trained model weights and architecture, this will be used by the visualization code\n",
    "model_name = \"model.h5\"\n",
    "print(\"Saving the model to \"+model_name)\n",
    "json_string = model.to_json()\n",
    "open('model.json', 'w').write(json_string)\n",
    "model.save_weights(model_name)  "
   ]
  },
  {
   "cell_type": "code",
   "execution_count": 10,
   "metadata": {},
   "outputs": [
    {
     "name": "stdout",
     "output_type": "stream",
     "text": [
      "Done.\n"
     ]
    },
    {
     "data": {
      "image/png": "[encoded data removed]",
      "text/plain": [
       "<Figure size 432x288 with 1 Axes>"
      ]
     },
     "metadata": {},
     "output_type": "display_data"
    }
   ],
   "source": [
    "#################\n",
    "# TEST\n",
    "#################\n",
    "img_saver = save_img()\n",
    "next(img_saver)\n",
    "\n",
    "for _ in range(10):\n",
    "    g = episode()\n",
    "    S, _ = next(g)\n",
    "    img_saver.send(S)\n",
    "    try:\n",
    "        while True:\n",
    "            act = np.argmax(model.predict(S[np.newaxis]), axis=-1)[0] - 1\n",
    "            S, _ = g.send(act)\n",
    "            img_saver.send(S)\n",
    "\n",
    "    except StopIteration:\n",
    "        pass\n",
    "\n",
    "img_saver.close()\n",
    "print('Done.')"
   ]
  },
  {
   "cell_type": "code",
   "execution_count": 11,
   "metadata": {},
   "outputs": [],
   "source": [
    "# create gif\n",
    "!convert -delay 20 -loop 0 images/*.png images/animation.gif"
   ]
  },
  {
   "cell_type": "markdown",
   "metadata": {},
   "source": [
    "![Animation](images/animation.gif \"animation\")"
   ]
  },
  {
   "cell_type": "code",
   "execution_count": null,
   "metadata": {},
   "outputs": [],
   "source": []
  }
 ],
 "metadata": {
  "kernelspec": {
   "display_name": "Python 3",
   "language": "python",
   "name": "python3"
  },
  "language_info": {
   "codemirror_mode": {
    "name": "ipython",
    "version": 3
   },
   "file_extension": ".py",
   "mimetype": "text/x-python",
   "name": "python",
   "nbconvert_exporter": "python",
   "pygments_lexer": "ipython3",
   "version": "3.6.6"
  }
 },
 "nbformat": 4,
 "nbformat_minor": 2
}
