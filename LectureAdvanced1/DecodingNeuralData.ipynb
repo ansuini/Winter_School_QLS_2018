{
 "cells": [
  {
   "cell_type": "markdown",
   "metadata": {},
   "source": [
    "# Primate V4 and IT decoding\n",
    "\n",
    "\n",
    "Data from :\n",
    "\n",
    "Cadieu CF, Hong H, Yamins DLK, Pinto N, Ardila D, et al. (2014) Deep Neural Networks Rival the Representation of Primate IT Cortex for Core Visual Object Recognition. PLoS Comput Biol 10(12): e1003963. doi: 10.1371/journal.pcbi.1003963\n",
    "\n",
    "\n",
    "<img src=\"sample.png\">"
   ]
  },
  {
   "cell_type": "code",
   "execution_count": 3,
   "metadata": {},
   "outputs": [],
   "source": [
    "%reload_ext autoreload\n",
    "%autoreload 2\n",
    "%matplotlib inline"
   ]
  },
  {
   "cell_type": "code",
   "execution_count": 4,
   "metadata": {},
   "outputs": [],
   "source": [
    "import os\n",
    "from os.path import join\n",
    "import sys\n",
    "import h5py"
   ]
  },
  {
   "cell_type": "code",
   "execution_count": 8,
   "metadata": {},
   "outputs": [],
   "source": [
    "import numpy as np\n",
    "from scipy.io import loadmat\n",
    "from scipy.spatial.distance import pdist, squareform\n",
    "from tqdm import tqdm\n",
    "import pickle\n",
    "from matplotlib import pyplot as plt\n",
    "plt.style.use('classic')"
   ]
  },
  {
   "cell_type": "code",
   "execution_count": 9,
   "metadata": {},
   "outputs": [],
   "source": [
    "def assembleData(unit_type):\n",
    "    \n",
    "    X = {}\n",
    "\n",
    "    filename = join('data', 'neural', 'NeuralData_V4_multiunits.mat')\n",
    "    data = loadmat(filename)\n",
    "    x = data['features']\n",
    "    x1 = x.T\n",
    "\n",
    "    filename = join('data', 'neural', 'NeuralData_V4_singleunits.mat')\n",
    "    data = loadmat(filename)\n",
    "    x = data['features']\n",
    "    x2 = x.T\n",
    "\n",
    "    x = np.vstack((x1,x2))\n",
    "\n",
    "    if unit_type == 'mua':\n",
    "        X['V4'] = x1\n",
    "    if unit_type == 'su':\n",
    "        X['V4'] = x2\n",
    "    if unit_type == 'all':\n",
    "        X['V4'] = x\n",
    "\n",
    "    filename = join('data', 'neural',  'NeuralData_IT_multiunits.mat')\n",
    "    data = loadmat(filename)\n",
    "    x = data['features']\n",
    "    x1 = x.T\n",
    "\n",
    "    filename = join('data', 'neural',  'NeuralData_IT_singleunits.mat')\n",
    "    data = loadmat(filename)\n",
    "    x = data['features']\n",
    "    x2 = x.T\n",
    "\n",
    "    x = np.vstack((x1,x2))\n",
    "    \n",
    "\n",
    "    if unit_type == 'mua':\n",
    "        X['IT'] = x1\n",
    "    if unit_type == 'su':\n",
    "        X['IT'] = x2\n",
    "    if unit_type == 'all':\n",
    "        X['IT'] = x    \n",
    "    \n",
    "    print('V4', X['V4'].shape)\n",
    "    print('IT', X['IT'].shape)\n",
    "    \n",
    "    return X"
   ]
  },
  {
   "cell_type": "markdown",
   "metadata": {},
   "source": [
    "# Compare V4 and IT"
   ]
  },
  {
   "cell_type": "code",
   "execution_count": 11,
   "metadata": {},
   "outputs": [
    {
     "name": "stdout",
     "output_type": "stream",
     "text": [
      "V4 (128, 1960)\n",
      "IT (168, 1960)\n",
      "V4 (40, 1960)\n",
      "IT (40, 1960)\n",
      "V4 (168, 1960)\n",
      "IT (208, 1960)\n"
     ]
    }
   ],
   "source": [
    "X_mua = assembleData('mua')\n",
    "X_su  = assembleData('su')\n",
    "X_all = assembleData('all')"
   ]
  },
  {
   "cell_type": "markdown",
   "metadata": {},
   "source": [
    "We compare samples of \n",
    "\n",
    "- 128 --> 102\n",
    "- 40  ---  40\n",
    "- 168 --> 130\n",
    "\n",
    "neurons respectively."
   ]
  },
  {
   "cell_type": "code",
   "execution_count": 20,
   "metadata": {},
   "outputs": [],
   "source": [
    "target_areas = ['V4','IT']\n",
    "n_min = 102\n",
    "np.seed = 1101\n",
    "nreps = 100\n",
    "verbose = False\n",
    "unit_type = 'mua'"
   ]
  }
 ],
 "metadata": {
  "kernelspec": {
   "display_name": "Python 3",
   "language": "python",
   "name": "python3"
  },
  "language_info": {
   "codemirror_mode": {
    "name": "ipython",
    "version": 3
   },
   "file_extension": ".py",
   "mimetype": "text/x-python",
   "name": "python",
   "nbconvert_exporter": "python",
   "pygments_lexer": "ipython3",
   "version": "3.6.6"
  }
 },
 "nbformat": 4,
 "nbformat_minor": 2
}
