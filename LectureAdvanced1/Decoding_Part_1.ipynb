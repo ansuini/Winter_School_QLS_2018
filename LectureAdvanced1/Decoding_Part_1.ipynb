{
 "cells": [
  {
   "cell_type": "markdown",
   "metadata": {},
   "source": [
    "# Decoding Representations in Deep Networks\n",
    "\n",
    "\n",
    "Decoding representations in the different layers of a deep network is a very valuable machine learning excercise, but it is not only this.\n",
    "\n",
    "The general methodology of this task is the same as for decoding representations in networks of real neurons.\n",
    "\n",
    "Usually one wants to decode a stimulus category or the continuous value of one of its parameters, such as luminosity, eccentricity, position etc.\n",
    "\n",
    "The steps are :\n",
    "\n",
    "- train a linear classifier or a linear regression algorithm\n",
    "- assess its performance\n",
    "\n",
    "This operation entails hyperparameters search with cross-validation\n"
   ]
  },
  {
   "cell_type": "code",
   "execution_count": 1,
   "metadata": {},
   "outputs": [
    {
     "name": "stderr",
     "output_type": "stream",
     "text": [
      "Using TensorFlow backend.\n"
     ]
    }
   ],
   "source": [
    "# imports\n",
    "\n",
    "import os\n",
    "import os.path as path\n",
    "from os import listdir \n",
    "from os.path import isfile, join\n",
    "import numpy as np\n",
    "from matplotlib import pyplot as plt\n",
    "from matplotlib import cm\n",
    "import h5py\n",
    "\n",
    "from keras.datasets import mnist\n",
    "from keras.models import Model, load_model\n",
    "from keras.utils.np_utils import to_categorical\n",
    "from keras import backend as K\n",
    "\n",
    "from tqdm import tqdm"
   ]
  },
  {
   "cell_type": "markdown",
   "metadata": {},
   "source": [
    "# Load data, model and extract representations\n",
    "\n",
    "We repeat the steps in the preceding exercise first"
   ]
  },
  {
   "cell_type": "code",
   "execution_count": 2,
   "metadata": {},
   "outputs": [],
   "source": [
    "def load_mnist_data():\n",
    "    (x_train, y_train), (x_test, y_test) = mnist.load_data()\n",
    "    x_train, x_test = x_train/255.0, x_test/255.0\n",
    "    x_train, x_test = x_train.astype(np.float32), x_test.astype(np.float32)    \n",
    "    x_train, x_test = np.expand_dims(x_train, 3), np.expand_dims(x_test, 3)\n",
    "    y_test_int = y_test # keep labels in integer form\n",
    "    y_train, y_test = to_categorical(y_train), to_categorical(y_test)\n",
    "    return x_train, x_test, y_train, y_test, y_test_int"
   ]
  },
  {
   "cell_type": "code",
   "execution_count": 3,
   "metadata": {},
   "outputs": [
    {
     "name": "stdout",
     "output_type": "stream",
     "text": [
      "Downloading data from https://s3.amazonaws.com/img-datasets/mnist.npz\n",
      "11493376/11490434 [==============================] - 9s 1us/step\n"
     ]
    }
   ],
   "source": [
    "x_train, x_test, y_train, y_test, y_test_int = load_mnist_data()"
   ]
  },
  {
   "cell_type": "code",
   "execution_count": 8,
   "metadata": {},
   "outputs": [],
   "source": [
    "# extract a random sample of n_sample elements from each category in test set\n",
    "n_samples = 100\n",
    "samples = np.zeros((n_samples*10,28,28,1))\n",
    "labels = np.zeros((n_samples*10,))\n",
    "labels_int = []\n",
    "for i in range(10):\n",
    "    labels_int.append([i]*n_samples)\n",
    "    mask = y_test_int == i\n",
    "    temp_x_test = x_test[mask]\n",
    "    idx = np.random.permutation(temp_x_test.shape[0])[:n_samples]\n",
    "    samples[i*n_samples: (i+1)*n_samples,:,:,:] = temp_x_test[idx]\n",
    "    labels[i*n_samples: (i+1)*n_samples] = np.zeros((n_samples,)) + i\n",
    "labels = to_categorical(labels)"
   ]
  },
  {
   "cell_type": "code",
   "execution_count": 9,
   "metadata": {},
   "outputs": [],
   "source": [
    "labels_int = np.asarray(labels_int).flatten()"
   ]
  },
  {
   "cell_type": "code",
   "execution_count": 10,
   "metadata": {},
   "outputs": [
    {
     "name": "stdout",
     "output_type": "stream",
     "text": [
      "_________________________________________________________________\n",
      "Layer (type)                 Output Shape              Param #   \n",
      "=================================================================\n",
      "images (InputLayer)          (None, 28, 28, 1)         0         \n",
      "_________________________________________________________________\n",
      "flatten_1 (Flatten)          (None, 784)               0         \n",
      "_________________________________________________________________\n",
      "hidden1 (Dense)              (None, 100)               78500     \n",
      "_________________________________________________________________\n",
      "hidden2 (Dense)              (None, 100)               10100     \n",
      "_________________________________________________________________\n",
      "hidden3 (Dense)              (None, 100)               10100     \n",
      "_________________________________________________________________\n",
      "output (Dense)               (None, 10)                1010      \n",
      "=================================================================\n",
      "Total params: 99,710\n",
      "Trainable params: 99,710\n",
      "Non-trainable params: 0\n",
      "_________________________________________________________________\n",
      "None\n"
     ]
    }
   ],
   "source": [
    "model = load_model(join('models', 'mlp3.h5'))\n",
    "print(model.summary())"
   ]
  },
  {
   "cell_type": "code",
   "execution_count": 11,
   "metadata": {},
   "outputs": [],
   "source": [
    "def extract_representations(model,samples):\n",
    "    inp = model.input                                           # input placeholder\n",
    "    outputs = [layer.output for layer in model.layers]          # all layer outputs\n",
    "    functor = K.function([inp, K.learning_phase()], outputs )   # evaluation function\n",
    "    layers_outs = functor([samples, 1.])\n",
    "    return layers_outs"
   ]
  },
  {
   "cell_type": "code",
   "execution_count": 12,
   "metadata": {},
   "outputs": [],
   "source": [
    "layers_outs = extract_representations(model,samples)"
   ]
  },
  {
   "cell_type": "code",
   "execution_count": 13,
   "metadata": {},
   "outputs": [],
   "source": [
    "layers_names = [l.name for l in model.layers]"
   ]
  },
  {
   "cell_type": "code",
   "execution_count": 14,
   "metadata": {},
   "outputs": [
    {
     "data": {
      "text/plain": [
       "['images', 'flatten_1', 'hidden1', 'hidden2', 'hidden3', 'output']"
      ]
     },
     "execution_count": 14,
     "metadata": {},
     "output_type": "execute_result"
    }
   ],
   "source": [
    "layers_names"
   ]
  },
  {
   "cell_type": "code",
   "execution_count": 15,
   "metadata": {},
   "outputs": [
    {
     "name": "stdout",
     "output_type": "stream",
     "text": [
      "images (1000, 28, 28, 1)\n",
      "flatten_1 (1000, 784)\n",
      "hidden1 (1000, 100)\n",
      "hidden2 (1000, 100)\n",
      "hidden3 (1000, 100)\n",
      "output (1000, 10)\n"
     ]
    }
   ],
   "source": [
    "# print names\n",
    "_ = [print(l_name, l_out.shape) for l_name,l_out in zip(layers_names, layers_outs)]"
   ]
  },
  {
   "cell_type": "code",
   "execution_count": 16,
   "metadata": {},
   "outputs": [],
   "source": [
    "ind_to_extract = [0,2,3,4,5]\n",
    "layers_labels = ['images', 'hidden1', 'hidden2', 'hidden3', 'output']"
   ]
  },
  {
   "cell_type": "markdown",
   "metadata": {},
   "source": [
    "# Decoding of Representations in a Layer"
   ]
  },
  {
   "cell_type": "code",
   "execution_count": 17,
   "metadata": {},
   "outputs": [
    {
     "name": "stdout",
     "output_type": "stream",
     "text": [
      "images (1000, 784)\n",
      "flatten_1 (1000, 784)\n",
      "hidden1 (1000, 100)\n",
      "hidden2 (1000, 100)\n",
      "hidden3 (1000, 100)\n",
      "output (1000, 10)\n"
     ]
    }
   ],
   "source": [
    "# flatten representations\n",
    "layers_outs = [np.reshape(l, (n_samples*10, -1)) for l in layers_outs]\n",
    "\n",
    "# print names\n",
    "_ = [print(l_name, l_out.shape) for l_name,l_out in zip(layers_names, layers_outs)]"
   ]
  },
  {
   "cell_type": "code",
   "execution_count": 18,
   "metadata": {},
   "outputs": [],
   "source": [
    "layers_info = zip(layers_names, layers_outs)"
   ]
  },
  {
   "cell_type": "code",
   "execution_count": 19,
   "metadata": {},
   "outputs": [],
   "source": [
    "from sklearn.svm import SVC, SVR\n",
    "from sklearn.model_selection import train_test_split\n",
    "from sklearn.model_selection import GridSearchCV\n",
    "from sklearn.model_selection import KFold\n",
    "from sklearn import preprocessing"
   ]
  },
  {
   "cell_type": "code",
   "execution_count": 20,
   "metadata": {},
   "outputs": [],
   "source": [
    "from sklearn.metrics import make_scorer, balanced_accuracy_score\n",
    "from scipy.stats import pearsonr\n",
    "\n",
    "def discrete_variable_score(y_true, y_predicted):    \n",
    "    return balanced_accuracy_score(y_true, y_predicted)\n",
    "\n",
    "def continuous_variable_score(y_true, y_predicted):\n",
    "    return pearsonr(y_true,y_predicted)[0]"
   ]
  },
  {
   "cell_type": "code",
   "execution_count": null,
   "metadata": {},
   "outputs": [],
   "source": []
  },
  {
   "cell_type": "code",
   "execution_count": 21,
   "metadata": {},
   "outputs": [],
   "source": [
    "# create scorer\n",
    "my_func = make_scorer(discrete_variable_score,greater_is_better=True)"
   ]
  },
  {
   "cell_type": "code",
   "execution_count": 22,
   "metadata": {},
   "outputs": [
    {
     "name": "stderr",
     "output_type": "stream",
     "text": [
      "  0%|          | 0/5 [00:00<?, ?it/s]/home/qsb/.local/lib/python3.6/site-packages/sklearn/model_selection/_search.py:841: DeprecationWarning: The default of the `iid` parameter will change from True to False in version 0.22 and will be removed in 0.24. This will change numeric results when test-set sizes are unequal.\n",
      "  DeprecationWarning)\n",
      " 20%|██        | 1/5 [00:28<01:53, 28.43s/it]/home/qsb/.local/lib/python3.6/site-packages/sklearn/model_selection/_search.py:841: DeprecationWarning: The default of the `iid` parameter will change from True to False in version 0.22 and will be removed in 0.24. This will change numeric results when test-set sizes are unequal.\n",
      "  DeprecationWarning)\n",
      "100%|██████████| 5/5 [00:38<00:00,  8.54s/it]\n"
     ]
    }
   ],
   "source": [
    "Score = []\n",
    "Results = []\n",
    "Parameters = []\n",
    "\n",
    "\n",
    "Cs = np.power(10., np.arange(-3,3))\n",
    "#Cs = [0.01]\n",
    "\n",
    "# define grid of parameters\n",
    "param_grid = {'C' : Cs}\n",
    "nresampling = 10\n",
    "nfolds = 5\n",
    "nprocs = 1\n",
    "\n",
    "\n",
    "y = labels_int\n",
    "\n",
    "for i in tqdm(ind_to_extract):\n",
    "    \n",
    "    X = layers_outs[i]\n",
    "    \n",
    "    # preprocessing\n",
    "    #X = preprocessing.scale(X) \n",
    "    \n",
    "    X_train, X_test, y_train, y_test = train_test_split(\n",
    "            X, y, test_size=0.1, random_state=None)\n",
    "    \n",
    "    # basis classifier\n",
    "    clf_ = SVC(kernel='linear')\n",
    "    \n",
    "    grid_search = GridSearchCV(clf_, param_grid, \n",
    "                                scoring=my_func, \n",
    "                                cv=nfolds, \n",
    "                                n_jobs=nprocs, \n",
    "                                refit=True,\n",
    "                                return_train_score=True)\n",
    "\n",
    "    grid_search.fit(X_train, y_train)    \n",
    "    \n",
    "    \n",
    "    Score.append(grid_search.best_score_)             \n",
    "    Results.append(grid_search.cv_results_)\n",
    "    Parameters.append(grid_search.best_params_['C'])"
   ]
  },
  {
   "cell_type": "code",
   "execution_count": 23,
   "metadata": {},
   "outputs": [
    {
     "data": {
      "image/png": "[encoded data removed]",
      "text/plain": [
       "<Figure size 720x720 with 1 Axes>"
      ]
     },
     "metadata": {
      "needs_background": "light"
     },
     "output_type": "display_data"
    }
   ],
   "source": [
    "fs = 20\n",
    "ms = 20\n",
    "\n",
    "fig = plt.figure(figsize=(10,10))\n",
    "plt.plot(range(len(ind_to_extract) ), Score, '-bo',markersize=ms) \n",
    "plt.xticks(range(len(ind_to_extract) ), \n",
    "           layers_labels, \n",
    "           rotation='vertical',\n",
    "           fontsize=fs)\n",
    "\n",
    "plt.yticks(fontsize=fs)\n",
    "plt.ylabel('balanced accuracy',fontsize=fs)\n",
    "plt.xlabel('layer',fontsize=fs)\n",
    "plt.show()"
   ]
  },
  {
   "cell_type": "code",
   "execution_count": null,
   "metadata": {},
   "outputs": [],
   "source": []
  }
 ],
 "metadata": {
  "kernelspec": {
   "display_name": "Python 3",
   "language": "python",
   "name": "python3"
  },
  "language_info": {
   "codemirror_mode": {
    "name": "ipython",
    "version": 3
   },
   "file_extension": ".py",
   "mimetype": "text/x-python",
   "name": "python",
   "nbconvert_exporter": "python",
   "pygments_lexer": "ipython3",
   "version": "3.6.6"
  }
 },
 "nbformat": 4,
 "nbformat_minor": 2
}
