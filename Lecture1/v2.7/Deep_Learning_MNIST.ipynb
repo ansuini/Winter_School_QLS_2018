{
 "cells": [
  {
   "cell_type": "code",
   "execution_count": null,
   "metadata": {},
   "outputs": [],
   "source": [
    "import sys\n",
    "sys.executable"
   ]
  },
  {
   "cell_type": "markdown",
   "metadata": {},
   "source": [
    "# Hand-written digit recognition (MNIST database)\n",
    "\n",
    "### Based on the book by Michael Nielsen, @ http://neuralnetworksanddeeplearning.com/index.html \n",
    "\n",
    "### Code on GitHub @ https://github.com/mnielsen/neural-networks-and-deep-learning "
   ]
  },
  {
   "cell_type": "markdown",
   "metadata": {},
   "source": [
    "<img src=\"mnist_100_digits.png\" style=\"width: 500px;\"/>"
   ]
  },
  {
   "cell_type": "markdown",
   "metadata": {},
   "source": [
    "#### MNIST dataset (how it is loaded)"
   ]
  },
  {
   "cell_type": "markdown",
   "metadata": {},
   "source": [
    "<code>training_data</code>, <code>validation_data</code>, <code>test_data</code> are iterators containing pairs of input-output arrays:\n",
    "* <code>training_data</code> contains 50000 pairs, and is used to train the network\n",
    "* <code>test_data</code> contains 10000 pairs, and is used to test the performance of the network;\n",
    "* <code>validation_data</code> also contains 10000 pairs and is used as extra ''testing'' data (to set hyper-parameters)"
   ]
  },
  {
   "cell_type": "markdown",
   "metadata": {},
   "source": [
    "#### Setup the network and calculate the optimum parameters via Stochastic Gradient Descent of the mean-square error cost function\n",
    "\n",
    "* Define a network with given numbers of nodes per layer (784 is the number of pixels of input images, 10 is the output vector)\n",
    "<br/><br/>\n",
    "\n",
    "* Define the parameters of the learning:\n",
    "    * <code>epochs</code> is the number of complete *sweeps* over the training data\n",
    "    <br/><br/>\n",
    "    \n",
    "    * <code>mini_batch_size</code> is the number of data points used for the evaluation of the gradient (i.e. between two steepest descent steps), $M$\n",
    "    <br/><br/>\n",
    "    \n",
    "    * <code>eta</code> is the learning rate, $\\eta$\n",
    "    <br/><br/>\n",
    "    \n",
    "    * $\\ldots$\n",
    "\n",
    "* Define a cost function (defined inside the <code>Network</code> class), i.e. the mean-square error function\n",
    "    \n",
    "    $$\n",
    "        C = \\frac{1}{N}\\sum_x \\underbrace{\\big\\| a^L(x) - y(x) \\big\\|^2}_{C_x}\n",
    "    $$\n",
    "    \n",
    "* **Train the network**.  For every epoch, \n",
    "\n",
    "    1. shuffle the training data (or the portion of training data passed to the SGD function) and divide them into mini-batches of size $M$;\n",
    "    <br/><br/>\n",
    "    \n",
    "    2. for each mini-batch calculate the gradient of the cost with respect to the parameters, as $ \\nabla_{w,b} C \\simeq \\overline{\\nabla_{w,b} C} $ (where $\\,\\overline{\\,\\bullet\\,}\\,$ indicates the sample mean over the mini-batch) using the **backpropagation** algorithm (see below) and take a gradient descent step as $$\n",
    "            w \\leftarrow w - \\eta\\,\\overline{\\frac{\\partial C}{\\partial w}}\n",
    "            \\qquad \\textrm{and} \\qquad\n",
    "            b \\leftarrow b - \\eta\\,\\overline{\\frac{\\partial C}{\\partial b}}$$\n",
    "    <br/><br/>\n",
    "\n",
    "    4. Test the performance with the <code>test_data</code>"
   ]
  },
  {
   "cell_type": "markdown",
   "metadata": {},
   "source": [
    "#### How backpropagation works\n",
    "\n",
    "For a given input $x$:\n",
    "\n",
    "1. **Set the input** as $a^1_j(x) = x_j$\n",
    "<br/><br/>\n",
    "\n",
    "2. **Feedforward**: For all the subsequent layers, compute $a_j^L(x)$, by iterating $ a_i^l = \\sigma(z_i^l)$ where\n",
    "\n",
    "    $$ z_i^l = \\sum_j w^{l-1}_{ij} a_j^{l-1} $$\n",
    "    for all $l = 2,\\ldots L$\n",
    "<br/><br/>\n",
    "    \n",
    "3. Calculate the output **error**:\n",
    "\n",
    "    $$ \\delta_j^L(x) = \\sigma'\\big(z^L_j\\big)\\frac{\\partial C_x}{\\partial a^L_j} $$\n",
    "    <br/>\n",
    "\n",
    "4. **Propagate** the error **backward**: for all the previous layers, $l = L-1, \\ldots 2$, iterate\n",
    "\n",
    "    $$ \\delta^l_i = \\sigma'\\big(z^l_i\\big)\\,\\sum_j w_{ji}^{l+1} \\delta_j^{l+1} $$\n",
    "    <br/>\n",
    "    \n",
    "5. **Derivatives of the cost** with respect to weights and biases are\n",
    "\n",
    "    $$\n",
    "        \\frac{\\partial C_x}{\\partial w^{l}_{ij}} = a_j^{l-1} \\delta^l_i\n",
    "        \\qquad \\textrm{ and } \\qquad\n",
    "        \\frac{\\partial C_x}{\\partial b_i} = \\delta^l_i\n",
    "    $$\n",
    "    \n",
    "    \n",
    "These derivatives are accumulated into the sample mean over the mini-batch data,\n",
    "\n",
    "$$\n",
    "    \\overline{\\frac{\\partial C}{\\partial w^{l}_{ij}}} \\simeq \\frac{1}{M}\\sum_x \\frac{\\partial C_x}{\\partial w^{l}_{ij}}\n",
    "        \\qquad \\textrm{ and } \\qquad\n",
    "        \\overline{\\frac{\\partial C}{\\partial b^{l}_{j}}} \\simeq \\frac{1}{M}\\sum_x \\frac{\\partial C_x}{\\partial b^{l}_{i}}\n",
    "$$"
   ]
  },
  {
   "cell_type": "code",
   "execution_count": null,
   "metadata": {},
   "outputs": [],
   "source": [
    "import mnist_loader\n",
    "training_data, validation_data, test_data = mnist_loader.load_data_wrapper()\n",
    "\n",
    "import network\n",
    "net = network.Network([784, 30, 10])\n",
    "\n",
    "epochs = 30\n",
    "mini_batch_size = 10\n",
    "eta = 3.0\n",
    "\n",
    "### uncomment to reduce the training data set\n",
    "n_training = 1000  # < 50000\n",
    "training_data = list(training_data)[:n_training]\n",
    "\n",
    "net.SGD(training_data, epochs, mini_batch_size, eta,\n",
    "        test_data=test_data)"
   ]
  },
  {
   "cell_type": "markdown",
   "metadata": {},
   "source": [
    "## Improvements"
   ]
  },
  {
   "cell_type": "markdown",
   "metadata": {},
   "source": [
    "Performance can be improved by:\n",
    "1. initializing the **weights** wisely\n",
    "1. choosing a more **suitable cost function** (Cross-entropy vs Mean-square-error)\n",
    "2. reducing overfitting through **regularization**\n",
    "    1. adding extra terms in the cost ($L_1$ or $L_2$ regularization of the weights)\n",
    "    2. with *dropout*"
   ]
  },
  {
   "cell_type": "markdown",
   "metadata": {},
   "source": [
    "### 1. Weight initialization"
   ]
  },
  {
   "cell_type": "markdown",
   "metadata": {},
   "source": [
    "By default, the <code>network2</code> class initializes the weights as Gaussian variables with standard deviation equal to $1/\\sqrt{\\textrm{input neurons}}$: as a consequence, both the weighted sum and the biases for the neuron are of order 1, avoiding saturation and hence learning slowdown."
   ]
  },
  {
   "cell_type": "code",
   "execution_count": null,
   "metadata": {},
   "outputs": [],
   "source": [
    "import mnist_loader\n",
    "training_data, validation_data, test_data = mnist_loader.load_data_wrapper()\n",
    "\n",
    "import network2\n",
    "net = network2.Network([784, 30, 10], cost=network2.QuadraticCost)\n",
    "\n",
    "## uncommenting this line, the code is equivalent to the one above\n",
    "# net.large_weight_initializer()\n",
    "\n",
    "epochs = 30\n",
    "mini_batch_size = 10\n",
    "eta = 3.0\n",
    "\n",
    "### uncomment to reduce the training data set\n",
    "#n_training = 1000  # < 50000\n",
    "#training_data = list(training_data)[:n_training]\n",
    "\n",
    "net.SGD(training_data, epochs, mini_batch_size, eta,\n",
    "        evaluation_data=test_data,\n",
    "        monitor_evaluation_accuracy=True)"
   ]
  },
  {
   "cell_type": "markdown",
   "metadata": {},
   "source": [
    "### 2. Cross-entropy cost function"
   ]
  },
  {
   "cell_type": "markdown",
   "metadata": {},
   "source": [
    "The Cross-entropy cost is defined as\n",
    "\n",
    "$$\n",
    "    C = \\frac{1}{N}\\sum_x \\underbrace{\\sum_i \\big[ -y_j(x)\\,\\log a_j^L(x) - (1-y_j(x))\\,\\log\\big( 1 - a^L_j(x) \\big) \\big]}_{C_x}\n",
    "$$"
   ]
  },
  {
   "cell_type": "code",
   "execution_count": null,
   "metadata": {},
   "outputs": [],
   "source": [
    "import mnist_loader\n",
    "training_data, validation_data, test_data = mnist_loader.load_data_wrapper()\n",
    "\n",
    "import network2\n",
    "\n",
    "# notice the different specification for the function 'cost'\n",
    "net = network2.Network([784, 30, 10], cost=network2.CrossEntropyCost)\n",
    "net.large_weight_initializer()\n",
    "\n",
    "epochs = 30\n",
    "mini_batch_size = 10\n",
    "eta = 0.5\n",
    "\n",
    "### uncomment to reduce the training data set\n",
    "#n_training = 1000  # < 50000\n",
    "#training_data = list(training_data)[:n_training]\n",
    "\n",
    "net.SGD(training_data, epochs, mini_batch_size, eta,\n",
    "        evaluation_data=test_data,\n",
    "        monitor_evaluation_accuracy=True)"
   ]
  },
  {
   "cell_type": "markdown",
   "metadata": {},
   "source": [
    "### 3. Reducing overfitting: $L_2$ regularization"
   ]
  },
  {
   "cell_type": "markdown",
   "metadata": {},
   "source": [
    "An extra term is added to the cost, which penalizes large values of the weights:\n",
    "$$ C = C^{0} + \\frac{\\lambda}{n} \\sum_\\textrm{all links} w^2 $$\n",
    "\n",
    "where $C^{0}$ is the unregularized cost, i.e. the quadratic cost or the cross-entropy cost.\n",
    "\n",
    "This is equivalent to changing the SGD update rule for the weights to\n",
    "$$\n",
    "    w \\leftarrow \\Big( 1 - \\frac{\\eta\\,\\lambda}{n} \\Big) w - \\eta \\overline{\\frac{\\partial C^{0}_x}{\\partial w}}\n",
    "$$\n",
    "\n",
    "where $\\,\\overline{\\,\\bullet\\,}\\,$ indicates the sample mean over the mini-batch"
   ]
  },
  {
   "cell_type": "code",
   "execution_count": 36,
   "metadata": {},
   "outputs": [
    {
     "name": "stdout",
     "output_type": "stream",
     "text": [
      "Epoch 0 training complete\n",
      "Accuracy on training data: 4170 / 5000\n",
      "Accuracy on evaluation data: 768 / 1000\n",
      "Epoch 1 training complete\n",
      "Accuracy on training data: 4490 / 5000\n",
      "Accuracy on evaluation data: 832 / 1000\n",
      "Epoch 2 training complete\n",
      "Accuracy on training data: 4535 / 5000\n",
      "Accuracy on evaluation data: 847 / 1000\n",
      "Epoch 3 training complete\n",
      "Accuracy on training data: 4627 / 5000\n",
      "Accuracy on evaluation data: 862 / 1000\n",
      "Epoch 4 training complete\n",
      "Accuracy on training data: 4724 / 5000\n",
      "Accuracy on evaluation data: 873 / 1000\n",
      "Epoch 5 training complete\n",
      "Accuracy on training data: 4741 / 5000\n",
      "Accuracy on evaluation data: 870 / 1000\n",
      "Epoch 6 training complete\n",
      "Accuracy on training data: 4785 / 5000\n",
      "Accuracy on evaluation data: 884 / 1000\n",
      "Epoch 7 training complete\n",
      "Accuracy on training data: 4815 / 5000\n",
      "Accuracy on evaluation data: 871 / 1000\n",
      "Epoch 8 training complete\n",
      "Accuracy on training data: 4838 / 5000\n",
      "Accuracy on evaluation data: 876 / 1000\n",
      "Epoch 9 training complete\n",
      "Accuracy on training data: 4819 / 5000\n",
      "Accuracy on evaluation data: 874 / 1000\n",
      "Epoch 10 training complete\n",
      "Accuracy on training data: 4856 / 5000\n",
      "Accuracy on evaluation data: 889 / 1000\n",
      "Epoch 11 training complete\n",
      "Accuracy on training data: 4866 / 5000\n",
      "Accuracy on evaluation data: 897 / 1000\n",
      "Epoch 12 training complete\n",
      "Accuracy on training data: 4893 / 5000\n",
      "Accuracy on evaluation data: 891 / 1000\n",
      "Epoch 13 training complete\n",
      "Accuracy on training data: 4900 / 5000\n",
      "Accuracy on evaluation data: 898 / 1000\n",
      "Epoch 14 training complete\n",
      "Accuracy on training data: 4900 / 5000\n",
      "Accuracy on evaluation data: 891 / 1000\n",
      "Epoch 15 training complete\n",
      "Accuracy on training data: 4920 / 5000\n",
      "Accuracy on evaluation data: 892 / 1000\n",
      "Epoch 16 training complete\n",
      "Accuracy on training data: 4918 / 5000\n",
      "Accuracy on evaluation data: 902 / 1000\n",
      "Epoch 17 training complete\n",
      "Accuracy on training data: 4902 / 5000\n",
      "Accuracy on evaluation data: 905 / 1000\n",
      "Epoch 18 training complete\n",
      "Accuracy on training data: 4912 / 5000\n",
      "Accuracy on evaluation data: 905 / 1000\n",
      "Epoch 19 training complete\n",
      "Accuracy on training data: 4936 / 5000\n",
      "Accuracy on evaluation data: 905 / 1000\n",
      "Epoch 20 training complete\n",
      "Accuracy on training data: 4944 / 5000\n",
      "Accuracy on evaluation data: 901 / 1000\n",
      "Epoch 21 training complete\n",
      "Accuracy on training data: 4921 / 5000\n",
      "Accuracy on evaluation data: 890 / 1000\n",
      "Epoch 22 training complete\n",
      "Accuracy on training data: 4945 / 5000\n",
      "Accuracy on evaluation data: 902 / 1000\n",
      "Epoch 23 training complete\n",
      "Accuracy on training data: 4947 / 5000\n",
      "Accuracy on evaluation data: 897 / 1000\n",
      "Epoch 24 training complete\n",
      "Accuracy on training data: 4956 / 5000\n",
      "Accuracy on evaluation data: 906 / 1000\n",
      "Epoch 25 training complete\n",
      "Accuracy on training data: 4942 / 5000\n",
      "Accuracy on evaluation data: 905 / 1000\n",
      "Epoch 26 training complete\n",
      "Accuracy on training data: 4950 / 5000\n",
      "Accuracy on evaluation data: 900 / 1000\n",
      "Epoch 27 training complete\n",
      "Accuracy on training data: 4953 / 5000\n",
      "Accuracy on evaluation data: 908 / 1000\n",
      "Epoch 28 training complete\n",
      "Accuracy on training data: 4953 / 5000\n",
      "Accuracy on evaluation data: 903 / 1000\n",
      "Epoch 29 training complete\n",
      "Accuracy on training data: 4956 / 5000\n",
      "Accuracy on evaluation data: 903 / 1000\n"
     ]
    }
   ],
   "source": [
    "import mnist_loader\n",
    "training_data, validation_data, test_data = mnist_loader.load_data_wrapper()\n",
    "\n",
    "import network2\n",
    "net = network2.Network([784, 30, 10], cost=network2.CrossEntropyCost)\n",
    "net.large_weight_initializer()\n",
    "\n",
    "n_training = 50000\n",
    "n_testing = 10000\n",
    "\n",
    "epochs = 30\n",
    "mini_batch_size = 10\n",
    "eta = 0.5\n",
    "lmbda = 1.0\n",
    "\n",
    "### uncomment to reduce the training/testing data set\n",
    "n_testing = 1000  # < 10000\n",
    "n_training = 5000  # < 50000\n",
    "\n",
    "\n",
    "evaluation_cost, evaluation_accuracy, training_cost, training_accuracy = net.SGD(\n",
    "    list(training_data)[:n_training],  #training_data,\n",
    "    epochs, mini_batch_size, eta,\n",
    "    lmbda = lmbda,\n",
    "    evaluation_data=list(test_data)[:n_testing], #evaluation_data=test_data,\n",
    "    monitor_evaluation_cost=False,\n",
    "    monitor_evaluation_accuracy=True,\n",
    "    monitor_training_cost=False,\n",
    "    monitor_training_accuracy=True)\n",
    "\n",
    "evaluation_accuracy = 100*np.array(evaluation_accuracy)/n_testing\n",
    "training_accuracy = 100*np.array(training_accuracy)/n_training"
   ]
  },
  {
   "cell_type": "code",
   "execution_count": 37,
   "metadata": {},
   "outputs": [
    {
     "data": {
      "image/png": "[encoded data removed]",
      "text/plain": [
       "<Figure size 432x288 with 1 Axes>"
      ]
     },
     "metadata": {},
     "output_type": "display_data"
    }
   ],
   "source": [
    "import matplotlib.pyplot as plt\n",
    "\n",
    "fig = plt.figure()\n",
    "ax = fig.add_subplot(111)\n",
    "ax.plot(np.arange(0, 30, 1), training_accuracy, color='#FFA933',\n",
    "            label=\"Accuracy on the training data\")\n",
    "ax.plot(np.arange(0, 30, 1), evaluation_accuracy, color='#2A6EA6', \n",
    "            label=\"Accuracy on the test data\")\n",
    "ax.set_xlim(0, 30)\n",
    "ax.set_xlabel('Epoch')\n",
    "ax.set_ylim(85, 100)\n",
    "ax.set_title('Classification accuracy')\n",
    "plt.legend(loc=\"lower right\")\n",
    "plt.show()"
   ]
  },
  {
   "cell_type": "markdown",
   "metadata": {},
   "source": [
    "#### Other methods to reduce overfitting\n",
    "\n",
    "* Early stopping\n",
    "* Dropout"
   ]
  },
  {
   "cell_type": "markdown",
   "metadata": {},
   "source": [
    "## Putting everything together "
   ]
  },
  {
   "cell_type": "code",
   "execution_count": null,
   "metadata": {
    "scrolled": true
   },
   "outputs": [],
   "source": [
    "import mnist_loader\n",
    "training_data, validation_data, test_data = mnist_loader.load_data_wrapper()\n",
    "\n",
    "import network2\n",
    "net = network2.Network([784, 30, 10], cost=network2.CrossEntropyCost)\n",
    "#net.large_weight_initializer()\n",
    "\n",
    "n_training = 50000\n",
    "epochs = 30\n",
    "mini_batch_size = 10\n",
    "eta = 0.5\n",
    "lmbda = 5.0\n",
    "\n",
    "### uncomment to reduce the training data set\n",
    "n_training = 1000  # < 50000\n",
    "training_data = list(training_data)[:n_training]\n",
    "\n",
    "evaluation_cost, evaluation_accuracy, training_cost, training_accuracy = net.SGD(\n",
    "    training_data, epochs, mini_batch_size, eta,\n",
    "    lmbda = lmbda,\n",
    "    evaluation_data=validation_data,\n",
    "    monitor_evaluation_accuracy=True,\n",
    "    monitor_evaluation_cost=False,\n",
    "    monitor_training_accuracy=True,\n",
    "    monitor_training_cost=False)\n",
    "\n",
    "evaluation_accuracy = .01*np.array(evaluation_accuracy)\n",
    "training_accuracy = 100/n_training*np.array(training_accuracy)"
   ]
  },
  {
   "cell_type": "markdown",
   "metadata": {},
   "source": [
    " "
   ]
  },
  {
   "cell_type": "markdown",
   "metadata": {},
   "source": [
    "<br/><br/>\n",
    "## Convolutional Neural Network"
   ]
  },
  {
   "cell_type": "markdown",
   "metadata": {},
   "source": [
    "Have a look at Chapter 6 of Nielsen book"
   ]
  },
  {
   "cell_type": "code",
   "execution_count": null,
   "metadata": {},
   "outputs": [],
   "source": [
    "import network3\n",
    "from network3 import Network\n",
    "from network3 import ConvPoolLayer, FullyConnectedLayer, SoftmaxLayer\n",
    "training_data, validation_data, test_data = network3.load_data_shared()\n",
    "mini_batch_size = 10\n",
    "\n",
    "net = Network([\n",
    "    FullyConnectedLayer(n_in=784, n_out=100),\n",
    "    SoftmaxLayer(n_in=100, n_out=10)], mini_batch_size)\n",
    "\n",
    "net.SGD(training_data, 60, mini_batch_size, 0.1, \n",
    "    validation_data, test_data)"
   ]
  }
 ],
 "metadata": {
  "kernelspec": {
   "display_name": "Python 3",
   "language": "python",
   "name": "python3"
  },
  "language_info": {
   "codemirror_mode": {
    "name": "ipython",
    "version": 3
   },
   "file_extension": ".py",
   "mimetype": "text/x-python",
   "name": "python",
   "nbconvert_exporter": "python",
   "pygments_lexer": "ipython3",
   "version": "3.7.0"
  }
 },
 "nbformat": 4,
 "nbformat_minor": 2
}
