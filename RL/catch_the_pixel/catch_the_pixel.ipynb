{
 "cells": [
  {
   "cell_type": "code",
   "execution_count": 3,
   "metadata": {},
   "outputs": [],
   "source": [
    "from random import sample as rsample\n",
    "\n",
    "import numpy as np\n",
    "\n",
    "from keras.models import Sequential\n",
    "from keras.layers.convolutional import Convolution2D\n",
    "from keras.layers.core import Dense, Flatten\n",
    "from keras.optimizers import SGD, RMSprop"
   ]
  },
  {
   "cell_type": "code",
   "execution_count": 4,
   "metadata": {},
   "outputs": [],
   "source": [
    "GRID_SIZE = 10\n",
    "\n",
    "def episode():\n",
    "    \"\"\" \n",
    "    Coroutine of episode. \n",
    "    \n",
    "    Action has to be explicitly send to this coroutine.\n",
    "    \"\"\"\n",
    "    x, y, z = (\n",
    "        np.random.randint(0, GRID_SIZE),  # X of fruit\n",
    "        0,  # Y of dot\n",
    "        np.random.randint(1, GRID_SIZE - 1)  # X of basket\n",
    "    )\n",
    "    while True:\n",
    "        X = np.zeros((GRID_SIZE, GRID_SIZE))  # Reset grid\n",
    "        X[y, x] = 1.  # Draw fruit\n",
    "        bar = range(z - 1, z + 2)\n",
    "        X[-1, bar] = 1.  # Draw basket\n",
    "        \n",
    "        # End of game is known when fruit is at penultimate line of grid.\n",
    "        # End represents either a win or a loss\n",
    "        end = int(y >= GRID_SIZE - 2)\n",
    "        if end and x not in bar:\n",
    "            end *= -1\n",
    "            \n",
    "        action = yield X[np.newaxis], end    \n",
    "        if end:\n",
    "            break\n",
    "\n",
    "        z = min(max(z + action, 1), GRID_SIZE - 2)\n",
    "        y += 1\n",
    "\n",
    "            \n",
    "def experience_replay(batch_size):\n",
    "    \"\"\"\n",
    "    Coroutine of experience replay.\n",
    "    \n",
    "    Provide a new experience by calling send, which in turn yields \n",
    "    a random batch of previous replay experiences.\n",
    "    \"\"\"\n",
    "    memory = []\n",
    "    while True:\n",
    "        experience = yield rsample(memory, batch_size) if batch_size <= len(memory) else None\n",
    "        memory.append(experience)"
   ]
  },
  {
   "cell_type": "code",
   "execution_count": 8,
   "metadata": {},
   "outputs": [],
   "source": [
    "?RMSprop"
   ]
  },
  {
   "cell_type": "code",
   "execution_count": 12,
   "metadata": {},
   "outputs": [],
   "source": [
    "nb_epochs = 100\n",
    "batch_size = 128\n",
    "epsilon = .1\n",
    "gamma = 1.\n",
    "\n",
    "# Recipe of deep reinforcement learning model\n",
    "model = Sequential()\n",
    "#model.add(Convolution2D(16, (3, 3), input_shape=(1, GRID_SIZE, GRID_SIZE), activation='relu',data_format='channels_first'))\n",
    "#model.add(Convolution2D(16, (3,3), activation='relu',data_format='channels_first'))\n",
    "model.add(Convolution2D(10, (3,3), input_shape=(1, GRID_SIZE, GRID_SIZE), activation='relu',data_format='channels_first'))\n",
    "model.add(Convolution2D(10, (3,3), activation='relu',data_format='channels_first'))\n",
    "model.add(Flatten(data_format='channels_first'))\n",
    "model.add(Dense(100, activation='relu'))\n",
    "model.add(Dense(3)) #3 actions\n",
    "#model.compile(loss='mean_squared_error', optimizer=SGD())\n",
    "model.compile(loss='mean_squared_error', optimizer=RMSprop())\n",
    "exp_replay = experience_replay(batch_size)\n",
    "exp_replay.__next__() # Start experience-replay coroutine"
   ]
  },
  {
   "cell_type": "code",
   "execution_count": 6,
   "metadata": {},
   "outputs": [
    {
     "name": "stdout",
     "output_type": "stream",
     "text": [
      "_________________________________________________________________\n",
      "Layer (type)                 Output Shape              Param #   \n",
      "=================================================================\n",
      "conv2d_1 (Conv2D)            (None, 10, 8, 8)          100       \n",
      "_________________________________________________________________\n",
      "conv2d_2 (Conv2D)            (None, 10, 6, 6)          910       \n",
      "_________________________________________________________________\n",
      "flatten_1 (Flatten)          (None, 360)               0         \n",
      "_________________________________________________________________\n",
      "dense_1 (Dense)              (None, 100)               36100     \n",
      "_________________________________________________________________\n",
      "dense_2 (Dense)              (None, 3)                 303       \n",
      "=================================================================\n",
      "Total params: 37,413\n",
      "Trainable params: 37,413\n",
      "Non-trainable params: 0\n",
      "_________________________________________________________________\n"
     ]
    }
   ],
   "source": [
    "model.summary()"
   ]
  },
  {
   "cell_type": "code",
   "execution_count": 13,
   "metadata": {},
   "outputs": [
    {
     "name": "stdout",
     "output_type": "stream",
     "text": [
      "Epoch 10, loss: 0.0\n",
      "Epoch 20, loss: 0.29064271971583366\n",
      "Epoch 30, loss: 0.47781794890761375\n",
      "Epoch 40, loss: 1.9987860694527626\n",
      "Epoch 50, loss: 15.437150329351425\n",
      "Epoch 60, loss: 13.605914771556854\n",
      "Epoch 70, loss: 26.14130401611328\n",
      "Epoch 80, loss: 93.27194809913635\n",
      "Epoch 90, loss: 74.59638929367065\n",
      "Epoch 100, loss: 131.82960319519043\n"
     ]
    }
   ],
   "source": [
    "Loss = np.zeros((nb_epochs,))\n",
    "\n",
    "for i in range(nb_epochs):\n",
    "    ep = episode()\n",
    "    S, won = ep.__next__()  # Start coroutine of single entire episode\n",
    "    loss = 0.\n",
    "    try:\n",
    "        while True:\n",
    "            action = np.random.randint(-1, 2) \n",
    "            if np.random.random() > epsilon:\n",
    "                # Get the index of the maximum q-value of the model.\n",
    "                # Subtract one because actions are either -1, 0, or 1\n",
    "                action = np.argmax(model.predict(S[np.newaxis]), axis=-1)[0] - 1\n",
    "\n",
    "            S_prime, won = ep.send(action)\n",
    "            experience = (S, action, won, S_prime)\n",
    "            S = S_prime\n",
    "            \n",
    "            batch = exp_replay.send(experience)\n",
    "            if batch:\n",
    "                inputs = []\n",
    "                targets = []\n",
    "                for s, a, r, s_prime in batch:\n",
    "                    # The targets of unchosen actions are the q-values of the model,\n",
    "                    # so that the corresponding errors are 0. The targets of chosen actions\n",
    "                    # are either the rewards, in case a terminal state has been reached, \n",
    "                    # or future discounted q-values, in case episodes are still running.\n",
    "                    t = model.predict(s[np.newaxis]).flatten()\n",
    "                    t[a + 1] = r\n",
    "                    if not r:\n",
    "                        t[a + 1] = r + gamma * model.predict(s_prime[np.newaxis]).max(axis=-1)\n",
    "                    targets.append(t)\n",
    "                    inputs.append(s)\n",
    "                \n",
    "                loss += model.train_on_batch(np.array(inputs), np.array(targets))\n",
    "\n",
    "    except StopIteration:\n",
    "        pass\n",
    "    \n",
    "    Loss[i] = loss\n",
    "    if (i + 1) % 10 == 0:\n",
    "        print(\"Epoch {}, loss: {}\".format(i + 1, loss))"
   ]
  },
  {
   "cell_type": "code",
   "execution_count": 16,
   "metadata": {},
   "outputs": [
    {
     "data": {
      "image/png": "[encoded data removed]",
      "text/plain": [
       "<Figure size 432x288 with 1 Axes>"
      ]
     },
     "metadata": {
      "needs_background": "light"
     },
     "output_type": "display_data"
    }
   ],
   "source": [
    "from matplotlib import pyplot as plt\n",
    "plt.plot(Loss)\n",
    "plt.show()"
   ]
  },
  {
   "cell_type": "code",
   "execution_count": null,
   "metadata": {},
   "outputs": [],
   "source": []
  }
 ],
 "metadata": {
  "kernelspec": {
   "display_name": "Python 3",
   "language": "python",
   "name": "python3"
  },
  "language_info": {
   "codemirror_mode": {
    "name": "ipython",
    "version": 3
   },
   "file_extension": ".py",
   "mimetype": "text/x-python",
   "name": "python",
   "nbconvert_exporter": "python",
   "pygments_lexer": "ipython3",
   "version": "3.6.6"
  }
 },
 "nbformat": 4,
 "nbformat_minor": 2
}
